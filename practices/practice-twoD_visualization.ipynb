{
  "cells": [
    {
      "cell_type": "markdown",
      "id": "f3c17522",
      "metadata": {
        "id": "f3c17522"
      },
      "source": [
        "# (연습) 2차원 데이터 시각화"
      ]
    },
    {
      "cell_type": "markdown",
      "id": "47758ef7",
      "metadata": {
        "id": "47758ef7"
      },
      "source": [
        "**기본 설정**"
      ]
    },
    {
      "cell_type": "code",
      "execution_count": 1,
      "id": "7309d4a3",
      "metadata": {
        "id": "7309d4a3"
      },
      "outputs": [],
      "source": [
        "import numpy as np\n",
        "import pandas as pd\n",
        "import matplotlib.pyplot as plt\n",
        "\n",
        "plt.rc('figure', figsize=(8, 6))"
      ]
    },
    {
      "cell_type": "markdown",
      "id": "1c5dcf48",
      "metadata": {
        "id": "1c5dcf48"
      },
      "source": [
        "붓꽃 데이터셋을 아래 방식으로 불러온다."
      ]
    },
    {
      "cell_type": "code",
      "execution_count": 2,
      "id": "4473806b",
      "metadata": {
        "id": "4473806b"
      },
      "outputs": [],
      "source": [
        "from sklearn.datasets import load_iris\n",
        "\n",
        "iris = load_iris(as_frame=True)"
      ]
    },
    {
      "cell_type": "markdown",
      "id": "3afd1a9e",
      "metadata": {
        "id": "3afd1a9e"
      },
      "source": [
        "**참고**\n",
        "\n",
        "`sklearn`은 사이킷런 라이브러리이며 머신러닝에 가장 중요한 라이브러리 중 하나다."
      ]
    },
    {
      "cell_type": "markdown",
      "id": "73477dfa",
      "metadata": {
        "id": "73477dfa"
      },
      "source": [
        "`load_iris()` 함수의 반환값은 사이킷런 라이브리가 제공하는 `Bunch` 자료형이다."
      ]
    },
    {
      "cell_type": "code",
      "execution_count": 3,
      "id": "279541cb",
      "metadata": {
        "id": "279541cb",
        "outputId": "94189a83-d790-4e72-df0f-ee538b13cb84",
        "colab": {
          "base_uri": "https://localhost:8080/",
          "height": 186
        }
      },
      "outputs": [
        {
          "output_type": "execute_result",
          "data": {
            "text/plain": [
              "sklearn.utils._bunch.Bunch"
            ],
            "text/html": [
              "<div style=\"max-width:800px; border: 1px solid var(--colab-border-color);\"><style>\n",
              "      pre.function-repr-contents {\n",
              "        overflow-x: auto;\n",
              "        padding: 8px 12px;\n",
              "        max-height: 500px;\n",
              "      }\n",
              "\n",
              "      pre.function-repr-contents.function-repr-contents-collapsed {\n",
              "        cursor: pointer;\n",
              "        max-height: 100px;\n",
              "      }\n",
              "    </style>\n",
              "    <pre style=\"white-space: initial; background:\n",
              "         var(--colab-secondary-surface-color); padding: 8px 12px;\n",
              "         border-bottom: 1px solid var(--colab-border-color);\"><b>sklearn.utils._bunch.Bunch</b><br/>def __init__(**kwargs)</pre><pre class=\"function-repr-contents function-repr-contents-collapsed\" style=\"\"><a class=\"filepath\" style=\"display:none\" href=\"#\">/usr/local/lib/python3.11/dist-packages/sklearn/utils/_bunch.py</a>Container object exposing keys as attributes.\n",
              "\n",
              "Bunch objects are sometimes used as an output for functions and methods.\n",
              "They extend dictionaries by enabling values to be accessed by key,\n",
              "`bunch[&quot;value_key&quot;]`, or by an attribute, `bunch.value_key`.\n",
              "\n",
              "Examples\n",
              "--------\n",
              "&gt;&gt;&gt; from sklearn.utils import Bunch\n",
              "&gt;&gt;&gt; b = Bunch(a=1, b=2)\n",
              "&gt;&gt;&gt; b[&#x27;b&#x27;]\n",
              "2\n",
              "&gt;&gt;&gt; b.b\n",
              "2\n",
              "&gt;&gt;&gt; b.a = 3\n",
              "&gt;&gt;&gt; b[&#x27;a&#x27;]\n",
              "3\n",
              "&gt;&gt;&gt; b.c = 6\n",
              "&gt;&gt;&gt; b[&#x27;c&#x27;]\n",
              "6</pre>\n",
              "      <script>\n",
              "      if (google.colab.kernel.accessAllowed && google.colab.files && google.colab.files.view) {\n",
              "        for (const element of document.querySelectorAll('.filepath')) {\n",
              "          element.style.display = 'block'\n",
              "          element.onclick = (event) => {\n",
              "            event.preventDefault();\n",
              "            event.stopPropagation();\n",
              "            google.colab.files.view(element.textContent, 7);\n",
              "          };\n",
              "        }\n",
              "      }\n",
              "      for (const element of document.querySelectorAll('.function-repr-contents')) {\n",
              "        element.onclick = (event) => {\n",
              "          event.preventDefault();\n",
              "          event.stopPropagation();\n",
              "          element.classList.toggle('function-repr-contents-collapsed');\n",
              "        };\n",
              "      }\n",
              "      </script>\n",
              "      </div>"
            ]
          },
          "metadata": {},
          "execution_count": 3
        }
      ],
      "source": [
        "type(iris)"
      ]
    },
    {
      "cell_type": "markdown",
      "id": "5af29aef",
      "metadata": {
        "id": "5af29aef"
      },
      "source": [
        "`Bunch` 객체는 데이터셋을 사전 형식으로 담으며, 키를 객체의 속성처럼 다룰 수 있다.\n",
        "사용된 키를 확인해보자."
      ]
    },
    {
      "cell_type": "code",
      "execution_count": 4,
      "id": "74ab550d",
      "metadata": {
        "id": "74ab550d",
        "outputId": "ec20fd28-f6e8-47d1-df9e-763bb5539777",
        "colab": {
          "base_uri": "https://localhost:8080/"
        }
      },
      "outputs": [
        {
          "output_type": "execute_result",
          "data": {
            "text/plain": [
              "dict_keys(['data', 'target', 'frame', 'target_names', 'DESCR', 'feature_names', 'filename', 'data_module'])"
            ]
          },
          "metadata": {},
          "execution_count": 4
        }
      ],
      "source": [
        "iris.keys()"
      ]
    },
    {
      "cell_type": "markdown",
      "id": "a2b2e9ff",
      "metadata": {
        "id": "a2b2e9ff"
      },
      "source": [
        "이중에 붓꽃 데이터는 `'data'` 키가 가리키는 데이터프레임 객체며,\n",
        "총 150개의 샘플이 각각 네 개의 특성을 갖는다.\n",
        "\n",
        "| 특성 | 의미 |\n",
        "| :--- | :--- |\n",
        "| sepal length | 꽃받침 길이 |\n",
        "| sepal width | 꽃받침 너비 |\n",
        "| petal length | 꽃잎 길이 |\n",
        "| petal width | 꽃잎 길이 |"
      ]
    },
    {
      "cell_type": "markdown",
      "id": "efe20475",
      "metadata": {
        "id": "efe20475"
      },
      "source": [
        "<p><div align=\"center\"><img src=\"https://github.com/codingalzi/DataSci/blob/master/jupyter-book/images/iris.png?raw=true\" style=\"width:700px\"></div></p>"
      ]
    },
    {
      "cell_type": "code",
      "execution_count": 5,
      "id": "e7eab57d",
      "metadata": {
        "id": "e7eab57d",
        "outputId": "79253d83-f3b4-4607-813a-81ba41ed1783",
        "colab": {
          "base_uri": "https://localhost:8080/",
          "height": 423
        }
      },
      "outputs": [
        {
          "output_type": "execute_result",
          "data": {
            "text/plain": [
              "     sepal length (cm)  sepal width (cm)  petal length (cm)  petal width (cm)\n",
              "0                  5.1               3.5                1.4               0.2\n",
              "1                  4.9               3.0                1.4               0.2\n",
              "2                  4.7               3.2                1.3               0.2\n",
              "3                  4.6               3.1                1.5               0.2\n",
              "4                  5.0               3.6                1.4               0.2\n",
              "..                 ...               ...                ...               ...\n",
              "145                6.7               3.0                5.2               2.3\n",
              "146                6.3               2.5                5.0               1.9\n",
              "147                6.5               3.0                5.2               2.0\n",
              "148                6.2               3.4                5.4               2.3\n",
              "149                5.9               3.0                5.1               1.8\n",
              "\n",
              "[150 rows x 4 columns]"
            ],
            "text/html": [
              "\n",
              "  <div id=\"df-6ed47857-649a-4894-8e6f-d2e6c800ce0b\" class=\"colab-df-container\">\n",
              "    <div>\n",
              "<style scoped>\n",
              "    .dataframe tbody tr th:only-of-type {\n",
              "        vertical-align: middle;\n",
              "    }\n",
              "\n",
              "    .dataframe tbody tr th {\n",
              "        vertical-align: top;\n",
              "    }\n",
              "\n",
              "    .dataframe thead th {\n",
              "        text-align: right;\n",
              "    }\n",
              "</style>\n",
              "<table border=\"1\" class=\"dataframe\">\n",
              "  <thead>\n",
              "    <tr style=\"text-align: right;\">\n",
              "      <th></th>\n",
              "      <th>sepal length (cm)</th>\n",
              "      <th>sepal width (cm)</th>\n",
              "      <th>petal length (cm)</th>\n",
              "      <th>petal width (cm)</th>\n",
              "    </tr>\n",
              "  </thead>\n",
              "  <tbody>\n",
              "    <tr>\n",
              "      <th>0</th>\n",
              "      <td>5.1</td>\n",
              "      <td>3.5</td>\n",
              "      <td>1.4</td>\n",
              "      <td>0.2</td>\n",
              "    </tr>\n",
              "    <tr>\n",
              "      <th>1</th>\n",
              "      <td>4.9</td>\n",
              "      <td>3.0</td>\n",
              "      <td>1.4</td>\n",
              "      <td>0.2</td>\n",
              "    </tr>\n",
              "    <tr>\n",
              "      <th>2</th>\n",
              "      <td>4.7</td>\n",
              "      <td>3.2</td>\n",
              "      <td>1.3</td>\n",
              "      <td>0.2</td>\n",
              "    </tr>\n",
              "    <tr>\n",
              "      <th>3</th>\n",
              "      <td>4.6</td>\n",
              "      <td>3.1</td>\n",
              "      <td>1.5</td>\n",
              "      <td>0.2</td>\n",
              "    </tr>\n",
              "    <tr>\n",
              "      <th>4</th>\n",
              "      <td>5.0</td>\n",
              "      <td>3.6</td>\n",
              "      <td>1.4</td>\n",
              "      <td>0.2</td>\n",
              "    </tr>\n",
              "    <tr>\n",
              "      <th>...</th>\n",
              "      <td>...</td>\n",
              "      <td>...</td>\n",
              "      <td>...</td>\n",
              "      <td>...</td>\n",
              "    </tr>\n",
              "    <tr>\n",
              "      <th>145</th>\n",
              "      <td>6.7</td>\n",
              "      <td>3.0</td>\n",
              "      <td>5.2</td>\n",
              "      <td>2.3</td>\n",
              "    </tr>\n",
              "    <tr>\n",
              "      <th>146</th>\n",
              "      <td>6.3</td>\n",
              "      <td>2.5</td>\n",
              "      <td>5.0</td>\n",
              "      <td>1.9</td>\n",
              "    </tr>\n",
              "    <tr>\n",
              "      <th>147</th>\n",
              "      <td>6.5</td>\n",
              "      <td>3.0</td>\n",
              "      <td>5.2</td>\n",
              "      <td>2.0</td>\n",
              "    </tr>\n",
              "    <tr>\n",
              "      <th>148</th>\n",
              "      <td>6.2</td>\n",
              "      <td>3.4</td>\n",
              "      <td>5.4</td>\n",
              "      <td>2.3</td>\n",
              "    </tr>\n",
              "    <tr>\n",
              "      <th>149</th>\n",
              "      <td>5.9</td>\n",
              "      <td>3.0</td>\n",
              "      <td>5.1</td>\n",
              "      <td>1.8</td>\n",
              "    </tr>\n",
              "  </tbody>\n",
              "</table>\n",
              "<p>150 rows × 4 columns</p>\n",
              "</div>\n",
              "    <div class=\"colab-df-buttons\">\n",
              "\n",
              "  <div class=\"colab-df-container\">\n",
              "    <button class=\"colab-df-convert\" onclick=\"convertToInteractive('df-6ed47857-649a-4894-8e6f-d2e6c800ce0b')\"\n",
              "            title=\"Convert this dataframe to an interactive table.\"\n",
              "            style=\"display:none;\">\n",
              "\n",
              "  <svg xmlns=\"http://www.w3.org/2000/svg\" height=\"24px\" viewBox=\"0 -960 960 960\">\n",
              "    <path d=\"M120-120v-720h720v720H120Zm60-500h600v-160H180v160Zm220 220h160v-160H400v160Zm0 220h160v-160H400v160ZM180-400h160v-160H180v160Zm440 0h160v-160H620v160ZM180-180h160v-160H180v160Zm440 0h160v-160H620v160Z\"/>\n",
              "  </svg>\n",
              "    </button>\n",
              "\n",
              "  <style>\n",
              "    .colab-df-container {\n",
              "      display:flex;\n",
              "      gap: 12px;\n",
              "    }\n",
              "\n",
              "    .colab-df-convert {\n",
              "      background-color: #E8F0FE;\n",
              "      border: none;\n",
              "      border-radius: 50%;\n",
              "      cursor: pointer;\n",
              "      display: none;\n",
              "      fill: #1967D2;\n",
              "      height: 32px;\n",
              "      padding: 0 0 0 0;\n",
              "      width: 32px;\n",
              "    }\n",
              "\n",
              "    .colab-df-convert:hover {\n",
              "      background-color: #E2EBFA;\n",
              "      box-shadow: 0px 1px 2px rgba(60, 64, 67, 0.3), 0px 1px 3px 1px rgba(60, 64, 67, 0.15);\n",
              "      fill: #174EA6;\n",
              "    }\n",
              "\n",
              "    .colab-df-buttons div {\n",
              "      margin-bottom: 4px;\n",
              "    }\n",
              "\n",
              "    [theme=dark] .colab-df-convert {\n",
              "      background-color: #3B4455;\n",
              "      fill: #D2E3FC;\n",
              "    }\n",
              "\n",
              "    [theme=dark] .colab-df-convert:hover {\n",
              "      background-color: #434B5C;\n",
              "      box-shadow: 0px 1px 3px 1px rgba(0, 0, 0, 0.15);\n",
              "      filter: drop-shadow(0px 1px 2px rgba(0, 0, 0, 0.3));\n",
              "      fill: #FFFFFF;\n",
              "    }\n",
              "  </style>\n",
              "\n",
              "    <script>\n",
              "      const buttonEl =\n",
              "        document.querySelector('#df-6ed47857-649a-4894-8e6f-d2e6c800ce0b button.colab-df-convert');\n",
              "      buttonEl.style.display =\n",
              "        google.colab.kernel.accessAllowed ? 'block' : 'none';\n",
              "\n",
              "      async function convertToInteractive(key) {\n",
              "        const element = document.querySelector('#df-6ed47857-649a-4894-8e6f-d2e6c800ce0b');\n",
              "        const dataTable =\n",
              "          await google.colab.kernel.invokeFunction('convertToInteractive',\n",
              "                                                    [key], {});\n",
              "        if (!dataTable) return;\n",
              "\n",
              "        const docLinkHtml = 'Like what you see? Visit the ' +\n",
              "          '<a target=\"_blank\" href=https://colab.research.google.com/notebooks/data_table.ipynb>data table notebook</a>'\n",
              "          + ' to learn more about interactive tables.';\n",
              "        element.innerHTML = '';\n",
              "        dataTable['output_type'] = 'display_data';\n",
              "        await google.colab.output.renderOutput(dataTable, element);\n",
              "        const docLink = document.createElement('div');\n",
              "        docLink.innerHTML = docLinkHtml;\n",
              "        element.appendChild(docLink);\n",
              "      }\n",
              "    </script>\n",
              "  </div>\n",
              "\n",
              "\n",
              "<div id=\"df-c0429529-2a29-49af-a326-0312940ab9aa\">\n",
              "  <button class=\"colab-df-quickchart\" onclick=\"quickchart('df-c0429529-2a29-49af-a326-0312940ab9aa')\"\n",
              "            title=\"Suggest charts\"\n",
              "            style=\"display:none;\">\n",
              "\n",
              "<svg xmlns=\"http://www.w3.org/2000/svg\" height=\"24px\"viewBox=\"0 0 24 24\"\n",
              "     width=\"24px\">\n",
              "    <g>\n",
              "        <path d=\"M19 3H5c-1.1 0-2 .9-2 2v14c0 1.1.9 2 2 2h14c1.1 0 2-.9 2-2V5c0-1.1-.9-2-2-2zM9 17H7v-7h2v7zm4 0h-2V7h2v10zm4 0h-2v-4h2v4z\"/>\n",
              "    </g>\n",
              "</svg>\n",
              "  </button>\n",
              "\n",
              "<style>\n",
              "  .colab-df-quickchart {\n",
              "      --bg-color: #E8F0FE;\n",
              "      --fill-color: #1967D2;\n",
              "      --hover-bg-color: #E2EBFA;\n",
              "      --hover-fill-color: #174EA6;\n",
              "      --disabled-fill-color: #AAA;\n",
              "      --disabled-bg-color: #DDD;\n",
              "  }\n",
              "\n",
              "  [theme=dark] .colab-df-quickchart {\n",
              "      --bg-color: #3B4455;\n",
              "      --fill-color: #D2E3FC;\n",
              "      --hover-bg-color: #434B5C;\n",
              "      --hover-fill-color: #FFFFFF;\n",
              "      --disabled-bg-color: #3B4455;\n",
              "      --disabled-fill-color: #666;\n",
              "  }\n",
              "\n",
              "  .colab-df-quickchart {\n",
              "    background-color: var(--bg-color);\n",
              "    border: none;\n",
              "    border-radius: 50%;\n",
              "    cursor: pointer;\n",
              "    display: none;\n",
              "    fill: var(--fill-color);\n",
              "    height: 32px;\n",
              "    padding: 0;\n",
              "    width: 32px;\n",
              "  }\n",
              "\n",
              "  .colab-df-quickchart:hover {\n",
              "    background-color: var(--hover-bg-color);\n",
              "    box-shadow: 0 1px 2px rgba(60, 64, 67, 0.3), 0 1px 3px 1px rgba(60, 64, 67, 0.15);\n",
              "    fill: var(--button-hover-fill-color);\n",
              "  }\n",
              "\n",
              "  .colab-df-quickchart-complete:disabled,\n",
              "  .colab-df-quickchart-complete:disabled:hover {\n",
              "    background-color: var(--disabled-bg-color);\n",
              "    fill: var(--disabled-fill-color);\n",
              "    box-shadow: none;\n",
              "  }\n",
              "\n",
              "  .colab-df-spinner {\n",
              "    border: 2px solid var(--fill-color);\n",
              "    border-color: transparent;\n",
              "    border-bottom-color: var(--fill-color);\n",
              "    animation:\n",
              "      spin 1s steps(1) infinite;\n",
              "  }\n",
              "\n",
              "  @keyframes spin {\n",
              "    0% {\n",
              "      border-color: transparent;\n",
              "      border-bottom-color: var(--fill-color);\n",
              "      border-left-color: var(--fill-color);\n",
              "    }\n",
              "    20% {\n",
              "      border-color: transparent;\n",
              "      border-left-color: var(--fill-color);\n",
              "      border-top-color: var(--fill-color);\n",
              "    }\n",
              "    30% {\n",
              "      border-color: transparent;\n",
              "      border-left-color: var(--fill-color);\n",
              "      border-top-color: var(--fill-color);\n",
              "      border-right-color: var(--fill-color);\n",
              "    }\n",
              "    40% {\n",
              "      border-color: transparent;\n",
              "      border-right-color: var(--fill-color);\n",
              "      border-top-color: var(--fill-color);\n",
              "    }\n",
              "    60% {\n",
              "      border-color: transparent;\n",
              "      border-right-color: var(--fill-color);\n",
              "    }\n",
              "    80% {\n",
              "      border-color: transparent;\n",
              "      border-right-color: var(--fill-color);\n",
              "      border-bottom-color: var(--fill-color);\n",
              "    }\n",
              "    90% {\n",
              "      border-color: transparent;\n",
              "      border-bottom-color: var(--fill-color);\n",
              "    }\n",
              "  }\n",
              "</style>\n",
              "\n",
              "  <script>\n",
              "    async function quickchart(key) {\n",
              "      const quickchartButtonEl =\n",
              "        document.querySelector('#' + key + ' button');\n",
              "      quickchartButtonEl.disabled = true;  // To prevent multiple clicks.\n",
              "      quickchartButtonEl.classList.add('colab-df-spinner');\n",
              "      try {\n",
              "        const charts = await google.colab.kernel.invokeFunction(\n",
              "            'suggestCharts', [key], {});\n",
              "      } catch (error) {\n",
              "        console.error('Error during call to suggestCharts:', error);\n",
              "      }\n",
              "      quickchartButtonEl.classList.remove('colab-df-spinner');\n",
              "      quickchartButtonEl.classList.add('colab-df-quickchart-complete');\n",
              "    }\n",
              "    (() => {\n",
              "      let quickchartButtonEl =\n",
              "        document.querySelector('#df-c0429529-2a29-49af-a326-0312940ab9aa button');\n",
              "      quickchartButtonEl.style.display =\n",
              "        google.colab.kernel.accessAllowed ? 'block' : 'none';\n",
              "    })();\n",
              "  </script>\n",
              "</div>\n",
              "\n",
              "  <div id=\"id_49b9af82-3302-4ef9-ad37-9fc61174dcaa\">\n",
              "    <style>\n",
              "      .colab-df-generate {\n",
              "        background-color: #E8F0FE;\n",
              "        border: none;\n",
              "        border-radius: 50%;\n",
              "        cursor: pointer;\n",
              "        display: none;\n",
              "        fill: #1967D2;\n",
              "        height: 32px;\n",
              "        padding: 0 0 0 0;\n",
              "        width: 32px;\n",
              "      }\n",
              "\n",
              "      .colab-df-generate:hover {\n",
              "        background-color: #E2EBFA;\n",
              "        box-shadow: 0px 1px 2px rgba(60, 64, 67, 0.3), 0px 1px 3px 1px rgba(60, 64, 67, 0.15);\n",
              "        fill: #174EA6;\n",
              "      }\n",
              "\n",
              "      [theme=dark] .colab-df-generate {\n",
              "        background-color: #3B4455;\n",
              "        fill: #D2E3FC;\n",
              "      }\n",
              "\n",
              "      [theme=dark] .colab-df-generate:hover {\n",
              "        background-color: #434B5C;\n",
              "        box-shadow: 0px 1px 3px 1px rgba(0, 0, 0, 0.15);\n",
              "        filter: drop-shadow(0px 1px 2px rgba(0, 0, 0, 0.3));\n",
              "        fill: #FFFFFF;\n",
              "      }\n",
              "    </style>\n",
              "    <button class=\"colab-df-generate\" onclick=\"generateWithVariable('iris_data')\"\n",
              "            title=\"Generate code using this dataframe.\"\n",
              "            style=\"display:none;\">\n",
              "\n",
              "  <svg xmlns=\"http://www.w3.org/2000/svg\" height=\"24px\"viewBox=\"0 0 24 24\"\n",
              "       width=\"24px\">\n",
              "    <path d=\"M7,19H8.4L18.45,9,17,7.55,7,17.6ZM5,21V16.75L18.45,3.32a2,2,0,0,1,2.83,0l1.4,1.43a1.91,1.91,0,0,1,.58,1.4,1.91,1.91,0,0,1-.58,1.4L9.25,21ZM18.45,9,17,7.55Zm-12,3A5.31,5.31,0,0,0,4.9,8.1,5.31,5.31,0,0,0,1,6.5,5.31,5.31,0,0,0,4.9,4.9,5.31,5.31,0,0,0,6.5,1,5.31,5.31,0,0,0,8.1,4.9,5.31,5.31,0,0,0,12,6.5,5.46,5.46,0,0,0,6.5,12Z\"/>\n",
              "  </svg>\n",
              "    </button>\n",
              "    <script>\n",
              "      (() => {\n",
              "      const buttonEl =\n",
              "        document.querySelector('#id_49b9af82-3302-4ef9-ad37-9fc61174dcaa button.colab-df-generate');\n",
              "      buttonEl.style.display =\n",
              "        google.colab.kernel.accessAllowed ? 'block' : 'none';\n",
              "\n",
              "      buttonEl.onclick = () => {\n",
              "        google.colab.notebook.generateWithVariable('iris_data');\n",
              "      }\n",
              "      })();\n",
              "    </script>\n",
              "  </div>\n",
              "\n",
              "    </div>\n",
              "  </div>\n"
            ],
            "application/vnd.google.colaboratory.intrinsic+json": {
              "type": "dataframe",
              "variable_name": "iris_data",
              "summary": "{\n  \"name\": \"iris_data\",\n  \"rows\": 150,\n  \"fields\": [\n    {\n      \"column\": \"sepal length (cm)\",\n      \"properties\": {\n        \"dtype\": \"number\",\n        \"std\": 0.8280661279778629,\n        \"min\": 4.3,\n        \"max\": 7.9,\n        \"num_unique_values\": 35,\n        \"samples\": [\n          6.2,\n          4.5,\n          5.6\n        ],\n        \"semantic_type\": \"\",\n        \"description\": \"\"\n      }\n    },\n    {\n      \"column\": \"sepal width (cm)\",\n      \"properties\": {\n        \"dtype\": \"number\",\n        \"std\": 0.435866284936698,\n        \"min\": 2.0,\n        \"max\": 4.4,\n        \"num_unique_values\": 23,\n        \"samples\": [\n          2.3,\n          4.0,\n          3.5\n        ],\n        \"semantic_type\": \"\",\n        \"description\": \"\"\n      }\n    },\n    {\n      \"column\": \"petal length (cm)\",\n      \"properties\": {\n        \"dtype\": \"number\",\n        \"std\": 1.7652982332594667,\n        \"min\": 1.0,\n        \"max\": 6.9,\n        \"num_unique_values\": 43,\n        \"samples\": [\n          6.7,\n          3.8,\n          3.7\n        ],\n        \"semantic_type\": \"\",\n        \"description\": \"\"\n      }\n    },\n    {\n      \"column\": \"petal width (cm)\",\n      \"properties\": {\n        \"dtype\": \"number\",\n        \"std\": 0.7622376689603465,\n        \"min\": 0.1,\n        \"max\": 2.5,\n        \"num_unique_values\": 22,\n        \"samples\": [\n          0.2,\n          1.2,\n          1.3\n        ],\n        \"semantic_type\": \"\",\n        \"description\": \"\"\n      }\n    }\n  ]\n}"
            }
          },
          "metadata": {},
          "execution_count": 5
        }
      ],
      "source": [
        "iris_data = iris['data']\n",
        "iris_data"
      ]
    },
    {
      "cell_type": "markdown",
      "id": "4d4ea08c",
      "metadata": {
        "id": "4d4ea08c"
      },
      "source": [
        "붓꽃의 품종 정보는 `target_names` 키가 가리킨다."
      ]
    },
    {
      "cell_type": "code",
      "execution_count": 6,
      "id": "2b9b3a6c",
      "metadata": {
        "id": "2b9b3a6c",
        "outputId": "7e44f270-5691-4fa2-eccf-c220e2bd0250",
        "colab": {
          "base_uri": "https://localhost:8080/"
        }
      },
      "outputs": [
        {
          "output_type": "execute_result",
          "data": {
            "text/plain": [
              "array(['setosa', 'versicolor', 'virginica'], dtype='<U10')"
            ]
          },
          "metadata": {},
          "execution_count": 6
        }
      ],
      "source": [
        "iris['target_names']"
      ]
    },
    {
      "cell_type": "markdown",
      "id": "a754cb02",
      "metadata": {
        "id": "a754cb02"
      },
      "source": [
        "반면에 품종 데이터는 `'target'` 키가 가리키는 시리즈 객체다.\n",
        "항목은 0, 1, 2 정수이지만, 실제로는 구분을 위한 범주형으로 특성이다.\n",
        "각 숫자는 붓꽃의 품종을 가리킨다.\n",
        "\n",
        "| 번호 | 품종 |\n",
        "| :--- | :--- |\n",
        "| 0 | 세토사(Iris setosa) |\n",
        "| 1 | 버시컬러(Iris versicolor) |\n",
        "| 2 | 버지니카(Iris verginica) |"
      ]
    },
    {
      "cell_type": "code",
      "execution_count": 7,
      "id": "b55d33fa",
      "metadata": {
        "id": "b55d33fa",
        "outputId": "b541b976-904f-4fef-df53-e754a40db811",
        "colab": {
          "base_uri": "https://localhost:8080/",
          "height": 458
        }
      },
      "outputs": [
        {
          "output_type": "execute_result",
          "data": {
            "text/plain": [
              "0      0\n",
              "1      0\n",
              "2      0\n",
              "3      0\n",
              "4      0\n",
              "      ..\n",
              "145    2\n",
              "146    2\n",
              "147    2\n",
              "148    2\n",
              "149    2\n",
              "Name: target, Length: 150, dtype: int64"
            ],
            "text/html": [
              "<div>\n",
              "<style scoped>\n",
              "    .dataframe tbody tr th:only-of-type {\n",
              "        vertical-align: middle;\n",
              "    }\n",
              "\n",
              "    .dataframe tbody tr th {\n",
              "        vertical-align: top;\n",
              "    }\n",
              "\n",
              "    .dataframe thead th {\n",
              "        text-align: right;\n",
              "    }\n",
              "</style>\n",
              "<table border=\"1\" class=\"dataframe\">\n",
              "  <thead>\n",
              "    <tr style=\"text-align: right;\">\n",
              "      <th></th>\n",
              "      <th>target</th>\n",
              "    </tr>\n",
              "  </thead>\n",
              "  <tbody>\n",
              "    <tr>\n",
              "      <th>0</th>\n",
              "      <td>0</td>\n",
              "    </tr>\n",
              "    <tr>\n",
              "      <th>1</th>\n",
              "      <td>0</td>\n",
              "    </tr>\n",
              "    <tr>\n",
              "      <th>2</th>\n",
              "      <td>0</td>\n",
              "    </tr>\n",
              "    <tr>\n",
              "      <th>3</th>\n",
              "      <td>0</td>\n",
              "    </tr>\n",
              "    <tr>\n",
              "      <th>4</th>\n",
              "      <td>0</td>\n",
              "    </tr>\n",
              "    <tr>\n",
              "      <th>...</th>\n",
              "      <td>...</td>\n",
              "    </tr>\n",
              "    <tr>\n",
              "      <th>145</th>\n",
              "      <td>2</td>\n",
              "    </tr>\n",
              "    <tr>\n",
              "      <th>146</th>\n",
              "      <td>2</td>\n",
              "    </tr>\n",
              "    <tr>\n",
              "      <th>147</th>\n",
              "      <td>2</td>\n",
              "    </tr>\n",
              "    <tr>\n",
              "      <th>148</th>\n",
              "      <td>2</td>\n",
              "    </tr>\n",
              "    <tr>\n",
              "      <th>149</th>\n",
              "      <td>2</td>\n",
              "    </tr>\n",
              "  </tbody>\n",
              "</table>\n",
              "<p>150 rows × 1 columns</p>\n",
              "</div><br><label><b>dtype:</b> int64</label>"
            ]
          },
          "metadata": {},
          "execution_count": 7
        }
      ],
      "source": [
        "iris_varieties = iris['target']\n",
        "iris_varieties"
      ]
    },
    {
      "cell_type": "markdown",
      "id": "2145dfbd",
      "metadata": {
        "id": "2145dfbd"
      },
      "source": [
        "## 분류"
      ]
    },
    {
      "cell_type": "markdown",
      "id": "63a79a7b",
      "metadata": {
        "id": "63a79a7b"
      },
      "source": [
        "분류는 각 샘플 데이터에 대해 하나의 레이블을 할당한다.\n",
        "붓꽃의 꽃잎 길이와 너비를 특성으로 사용해서\n",
        "품종을 레이블로 사용한 결과를 그래프로 그리려고 한다."
      ]
    },
    {
      "cell_type": "markdown",
      "id": "31804b81",
      "metadata": {
        "id": "31804b81"
      },
      "source": [
        "**붓꽃 데이터 시각화**"
      ]
    },
    {
      "cell_type": "markdown",
      "id": "2ab46442",
      "metadata": {
        "id": "2ab46442"
      },
      "source": [
        "시각화를 위해 꽃잎<font size='2'>petal</font>의 길이와 너비 두 개의 특성만 선택한다."
      ]
    },
    {
      "cell_type": "code",
      "execution_count": 25,
      "id": "bba6ffa0",
      "metadata": {
        "id": "bba6ffa0"
      },
      "outputs": [],
      "source": [
        "X = iris_data[[\"petal length (cm)\", \"petal width (cm)\"]].values\n",
        "y = iris_varieties.values"
      ]
    },
    {
      "cell_type": "markdown",
      "id": "9bccc14d",
      "metadata": {
        "id": "9bccc14d"
      },
      "source": [
        "**질문 1**"
      ]
    },
    {
      "cell_type": "markdown",
      "id": "79d611ea",
      "metadata": {
        "id": "79d611ea"
      },
      "source": [
        "150개의 데이터는 처음부터 50개씩 각각 세토사, 버시컬러, 버지키나 품종의 데이터로 구성된다."
      ]
    },
    {
      "cell_type": "markdown",
      "id": "9bdfa3fe",
      "metadata": {
        "id": "9bdfa3fe"
      },
      "source": [
        "(1) 세토사, 버시컬ㄹ, 버지니카 각각의 품종으로 구성된 데이터프레임을 가리키는\n",
        "세 개의 변수 `X_setosa`, `X_versicolor`, `X_verginica`를 선언하라."
      ]
    },
    {
      "cell_type": "code",
      "execution_count": 10,
      "id": "05fdc0c4",
      "metadata": {
        "id": "05fdc0c4"
      },
      "outputs": [],
      "source": [
        "X_setosa = X[:50] # 세토사\n",
        "X_versicolor = X[50:100] # 버시컬러\n",
        "X_verginica = X[100:] # 버지니카\n"
      ]
    },
    {
      "cell_type": "markdown",
      "id": "3ac463c8",
      "metadata": {
        "id": "3ac463c8"
      },
      "source": [
        "(2) 각 데이터셋의 산점도를 다른 색을 이용하여 그려라."
      ]
    },
    {
      "cell_type": "code",
      "execution_count": 12,
      "id": "8a4b6040",
      "metadata": {
        "id": "8a4b6040",
        "outputId": "9ed0a84a-300f-4976-abac-18a013ecd9e2",
        "colab": {
          "base_uri": "https://localhost:8080/",
          "height": 542
        }
      },
      "outputs": [
        {
          "output_type": "display_data",
          "data": {
            "text/plain": [
              "<Figure size 800x600 with 1 Axes>"
            ],
            "image/png": "[encoded data removed]"
          },
          "metadata": {}
        }
      ],
      "source": [
        "plt.plot(X_setosa[:, 0], X_setosa[:, 1], \"yo\", label=\"Iris_setosa\") # plot(선긋는애)를 사용해도 \"yo\"를 통해 점만 표시 하게 할 수 있음\n",
        "plt.plot(X_versicolor[:, 0], X_versicolor[:, 1], \"bs\", label=\"Iris_versicolor\")\n",
        "plt.plot(X_verginica[:, 0], X_verginica[:, 1], \"r^\", label=\"Iris_verginica\")\n",
        "plt.xlabel(\"Petal length\")\n",
        "plt.ylabel(\"Petal width\")\n",
        "\n",
        "plt.show()"
      ]
    },
    {
      "cell_type": "markdown",
      "id": "9b9f4623",
      "metadata": {
        "id": "9b9f4623"
      },
      "source": [
        "(3) 범위를 x 축은 0에서 7.5 사이로, y 축은 0에서 3 사이로 지정한 다음에\n",
        "축의 척도를 일치 시킨 후에 산점도를 다시 그려라.\n",
        "\n",
        "힌트: `plt.gca().set_aspect(\"equal\")` 활용"
      ]
    },
    {
      "cell_type": "code",
      "execution_count": 15,
      "id": "175d242c",
      "metadata": {
        "id": "175d242c",
        "outputId": "7c97410e-7297-4c67-9d71-21defb912afd",
        "colab": {
          "base_uri": "https://localhost:8080/",
          "height": 333
        }
      },
      "outputs": [
        {
          "output_type": "display_data",
          "data": {
            "text/plain": [
              "<Figure size 800x600 with 1 Axes>"
            ],
            "image/png": "[encoded data removed]"
          },
          "metadata": {}
        }
      ],
      "source": [
        "plt.plot(X_setosa[:, 0], X_setosa[:, 1], \"yo\", label=\"Iris_setosa\") # plot(선긋는애)를 사용해도 \"yo\"를 통해 점만 표시 하게 할 수 있음\n",
        "plt.plot(X_versicolor[:, 0], X_versicolor[:, 1], \"bs\", label=\"Iris_versicolor\")\n",
        "plt.plot(X_verginica[:, 0], X_verginica[:, 1], \"r^\", label=\"Iris_verginica\")\n",
        "plt.xlabel(\"Petal length\")\n",
        "plt.ylabel(\"Petal width\")\n",
        "plt.legend(loc=\"upper left\")\n",
        "\n",
        "plt.axis([0, 7.5, 0, 3])\n",
        "plt.gca().set_aspect(\"equal\")\n",
        "\n",
        "\n",
        "plt.show()\n"
      ]
    },
    {
      "cell_type": "markdown",
      "id": "a0e88985",
      "metadata": {
        "id": "a0e88985"
      },
      "source": [
        "(4) 아래 그림과 같은 그래프를 그려라."
      ]
    },
    {
      "cell_type": "markdown",
      "id": "06fc753a",
      "metadata": {
        "id": "06fc753a"
      },
      "source": [
        "<p><div align=\"center\"><img src=\"https://github.com/codingalzi/DataSci/blob/master/jupyter-book/images/iris_sep.png?raw=true\" style=\"width:700px\"></div></p>"
      ]
    },
    {
      "cell_type": "markdown",
      "id": "3ade963e",
      "metadata": {
        "id": "3ade963e"
      },
      "source": [
        "힌트: 아래 코드 활용"
      ]
    },
    {
      "cell_type": "code",
      "execution_count": null,
      "id": "ff4b5aba",
      "metadata": {
        "id": "ff4b5aba"
      },
      "outputs": [],
      "source": [
        "# x 좌표\n",
        "x0 = np.linspace(0, 7.5, 200)\n",
        "\n",
        "# 두 개의 직선에 대한 y 좌표값\n",
        "pred_1 = 5 * x0 - 12  # 직선 1의 y 좌표\n",
        "pred_2 = -x0 + 6.5    # 직선 2의 y 좌표"
      ]
    },
    {
      "cell_type": "code",
      "execution_count": 19,
      "id": "f39fff44",
      "metadata": {
        "id": "f39fff44",
        "outputId": "fb414263-9f82-45ea-95d0-1db3580fc28f",
        "colab": {
          "base_uri": "https://localhost:8080/",
          "height": 333
        }
      },
      "outputs": [
        {
          "output_type": "display_data",
          "data": {
            "text/plain": [
              "<Figure size 800x600 with 1 Axes>"
            ],
            "image/png": "[encoded data removed]"
          },
          "metadata": {}
        }
      ],
      "source": [
        "plt.plot(X_setosa[:, 0], X_setosa[:, 1], \"yo\", label=\"Iris_setosa\") # plot(선긋는애)를 사용해도 \"yo\"를 통해 점만 표시 하게 할 수 있음\n",
        "plt.plot(X_versicolor[:, 0], X_versicolor[:, 1], \"bs\", label=\"Iris_versicolor\")\n",
        "plt.plot(X_verginica[:, 0], X_verginica[:, 1], \"rs\", label=\"Iris_verginica\")\n",
        "plt.xlabel(\"Petal length\")\n",
        "plt.ylabel(\"Petal width\")\n",
        "plt.legend(loc=\"upper left\")\n",
        "\n",
        "# x 좌표\n",
        "x0 = np.linspace(0, 7.5, 200)\n",
        "\n",
        "# 두 개의 직선에 대한 y 좌표값\n",
        "pred_1 = 5 * x0 - 12  # 직선 1의 y 좌표\n",
        "pred_2 = -x0 + 6.5    # 직선 2의 y 좌표\n",
        "\n",
        "plt.plot(x0, pred_1, \"g--\", linewidth=2)\n",
        "plt.plot(x0, pred_2, \"m-\", linewidth=2)\n",
        "\n",
        "plt.axis([0, 7.5, 0, 3])\n",
        "plt.gca().set_aspect(\"equal\")\n",
        "\n",
        "\n",
        "plt.show()\n"
      ]
    },
    {
      "cell_type": "markdown",
      "id": "a167a6b4",
      "metadata": {
        "id": "a167a6b4"
      },
      "source": [
        "## 군집화"
      ]
    },
    {
      "cell_type": "markdown",
      "id": "56dd1f6f",
      "metadata": {
        "id": "56dd1f6f"
      },
      "source": [
        "**군집**<font size='2'>cluster</font>은 유사한 대상들의 모음을 가리킨다.\n",
        "예를 들어, 산이나 공원에서 볼 수 있는 이름은 모르지만 동일 품종의 꽃으로 이루어진 군집 등을\n",
        "생각하면 된다.\n",
        "**군집화**<font size='2'>clustering</font>는 대상들을 나누어 군집을\n",
        "형성하는 것을 말한다.\n",
        "\n",
        "각 샘플에 하나의 그룹을 할당한다는 점에서 분류와 유사하다.\n",
        "하지만 각 샘플에 대해 레이블을 할당하는 게 아니라\n",
        "유사한 샘플들의 군집으로 구분한다는 점에서 다르다."
      ]
    },
    {
      "cell_type": "markdown",
      "id": "30e6f6b4",
      "metadata": {
        "id": "30e6f6b4"
      },
      "source": [
        "(1) 아래 그림은 아이리스 붓꽃 데이터에 세토사 품종으로 구성된 군집과 나머지로 구성된 군집을 보여준다.\n",
        "아래 그래프를 그리는 코드를 작성하라."
      ]
    },
    {
      "cell_type": "markdown",
      "id": "b47f8826",
      "metadata": {
        "id": "b47f8826"
      },
      "source": [
        "<p><div align=\"center\"><img src=\"https://github.com/codingalzi/DataSci/blob/master/jupyter-book/images/iris_cluster.png?raw=true\" style=\"width:700px\"></div></p>"
      ]
    },
    {
      "cell_type": "code",
      "execution_count": 24,
      "id": "f1f6ba0d",
      "metadata": {
        "id": "f1f6ba0d",
        "outputId": "0e6d8fa3-fa22-4da5-e5d0-e5fd1b125a58",
        "colab": {
          "base_uri": "https://localhost:8080/",
          "height": 542
        }
      },
      "outputs": [
        {
          "output_type": "display_data",
          "data": {
            "text/plain": [
              "<Figure size 800x600 with 1 Axes>"
            ],
            "image/png": "[encoded data removed]"
          },
          "metadata": {}
        }
      ],
      "source": [
        "iris_data_arr = iris_data.values\n",
        "\n",
        "plt.scatter(iris_data_arr[:50, 2], iris_data_arr[:50, 3], c=\"k\", marker=\".\")\n",
        "plt.scatter(iris_data_arr[50:, 2], iris_data_arr[50:, 3], c=\"b\", marker=\".\")\n",
        "\n",
        "plt.xlabel(\"Petal length\")\n",
        "plt.ylabel(\"Petal width\")\n",
        "\n",
        "plt.show()\n"
      ]
    },
    {
      "cell_type": "markdown",
      "id": "4ea930a4",
      "metadata": {
        "id": "4ea930a4"
      },
      "source": [
        "## 서브플롯 활용"
      ]
    },
    {
      "cell_type": "markdown",
      "id": "f7339364",
      "metadata": {
        "id": "f7339364"
      },
      "source": [
        "(1) 아래 그림은 아이리스 붓꽃 데이터에 대해 앞서 그린 분류와 군집화 그래프를 동시에 보여준다.\n",
        "아래 그래프를 그리는 코드를 작성하라."
      ]
    },
    {
      "cell_type": "markdown",
      "id": "197c2c2b",
      "metadata": {
        "id": "197c2c2b"
      },
      "source": [
        "<p><div align=\"center\"><img src=\"https://github.com/codingalzi/DataSci/blob/master/jupyter-book/images/iris_sep_cluster.png?raw=true\" style=\"width:900px\"></div></p>"
      ]
    },
    {
      "cell_type": "code",
      "execution_count": 27,
      "id": "41652c46",
      "metadata": {
        "id": "41652c46",
        "outputId": "e48a5d52-c96c-4f4e-bf0a-931b4a9cba14",
        "colab": {
          "base_uri": "https://localhost:8080/",
          "height": 368
        }
      },
      "outputs": [
        {
          "output_type": "display_data",
          "data": {
            "text/plain": [
              "<Figure size 1100x400 with 2 Axes>"
            ],
            "image/png": "[encoded data removed]"
          },
          "metadata": {}
        }
      ],
      "source": [
        "plt.rc('figure', figsize=(11, 4))\n",
        "\n",
        "fig, axes = plt.subplots(1, 2, sharex=True, sharey=True)\n",
        "\n",
        "axes[0].plot(iris_data_arr[y==0, 2], iris_data_arr[y==0, 3], \"yo\", label=\"Iris setosa\")\n",
        "axes[0].plot(iris_data_arr[y==1, 2], iris_data_arr[y==1, 3], \"bs\", label=\"Iris versicolor\")\n",
        "axes[0].plot(iris_data_arr[y==2, 2], iris_data_arr[y==2, 3], \"g^\", label=\"Iris virginica\")\n",
        "axes[0].set_ylabel(\"Petal width\")\n",
        "axes[0].legend()\n",
        "\n",
        "axes[1].scatter(iris_data_arr[y==0, 2], iris_data_arr[y==0, 3], c=\"k\", marker=\".\")\n",
        "axes[1].scatter(iris_data_arr[(y==1) | (y==2), 2], iris_data_arr[(y==1) | (y==2), 3], c=\"b\", marker=\".\")\n",
        "\n",
        "fig.subplots_adjust(wspace=0.07, hspace=0.12) # 상하좌우 여백\n",
        "\n",
        "plt.show()\n"
      ]
    }
  ],
  "metadata": {
    "kernelspec": {
      "display_name": "Python 3 (ipykernel)",
      "language": "python",
      "name": "python3"
    },
    "language_info": {
      "codemirror_mode": {
        "name": "ipython",
        "version": 3
      },
      "file_extension": ".py",
      "mimetype": "text/x-python",
      "name": "python",
      "nbconvert_exporter": "python",
      "pygments_lexer": "ipython3",
      "version": "3.12.2"
    },
    "colab": {
      "provenance": []
    }
  },
  "nbformat": 4,
  "nbformat_minor": 5
}
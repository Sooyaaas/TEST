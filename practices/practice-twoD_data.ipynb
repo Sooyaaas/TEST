{
  "cells": [
    {
      "cell_type": "markdown",
      "id": "4ba112a7",
      "metadata": {
        "id": "4ba112a7"
      },
      "source": [
        "# (연습) 2차원 데이터"
      ]
    },
    {
      "cell_type": "markdown",
      "id": "d9f08d8d",
      "metadata": {
        "id": "d9f08d8d"
      },
      "source": [
        "**준비사항**"
      ]
    },
    {
      "cell_type": "markdown",
      "id": "a29b94a7",
      "metadata": {
        "ExecuteTime": {
          "end_time": "2018-08-03T08:26:15.690793Z",
          "start_time": "2018-08-03T08:26:15.507201Z"
        },
        "id": "a29b94a7"
      },
      "source": [
        "Numpy와 Pandas 라이브러리를 각각 np와 pd라는 별칭으로 불러온다"
      ]
    },
    {
      "cell_type": "code",
      "execution_count": null,
      "id": "f379aa57",
      "metadata": {
        "ExecuteTime": {
          "end_time": "2018-08-03T08:26:15.690793Z",
          "start_time": "2018-08-03T08:26:15.507201Z"
        },
        "id": "f379aa57"
      },
      "outputs": [],
      "source": [
        "import numpy as np\n",
        "import pandas as pd"
      ]
    },
    {
      "cell_type": "markdown",
      "id": "350b6f17",
      "metadata": {
        "id": "350b6f17"
      },
      "source": [
        "`matplotlib.pyplot`은 막대그래프, 히스토그램, 산점도 등 데이터를 그래프로 시각화할 때 필요한\n",
        "다양한 함수를 제공하는 모듈이다."
      ]
    },
    {
      "cell_type": "code",
      "execution_count": null,
      "id": "ee21de7a",
      "metadata": {
        "id": "ee21de7a"
      },
      "outputs": [],
      "source": [
        "import matplotlib.pyplot as plt\n",
        "\n",
        "# 그래프 설정\n",
        "plt.rc('figure', figsize=(10, 6))  # 그래프 크기 지정"
      ]
    },
    {
      "cell_type": "markdown",
      "id": "4fc6eb8b",
      "metadata": {
        "id": "4fc6eb8b"
      },
      "source": [
        "**데이터 저장소 디렉토리**"
      ]
    },
    {
      "cell_type": "markdown",
      "id": "cba6842c",
      "metadata": {
        "id": "cba6842c"
      },
      "source": [
        "코드에 사용되는 데이터 저장소의 기본 디렉토리를 지정한다."
      ]
    },
    {
      "cell_type": "code",
      "execution_count": null,
      "id": "97a88422",
      "metadata": {
        "id": "97a88422"
      },
      "outputs": [],
      "source": [
        "data_url = 'https://raw.githubusercontent.com/codingalzi/DataSci/refs/heads/master/data/'"
      ]
    },
    {
      "cell_type": "markdown",
      "id": "451e25d5",
      "metadata": {
        "id": "451e25d5"
      },
      "source": [
        "**문제 1**"
      ]
    },
    {
      "cell_type": "markdown",
      "id": "95423de5",
      "metadata": {
        "id": "95423de5"
      },
      "source": [
        "기본 데이터 저장소에 있는 `sc_weir.csv` 파일은\n",
        "광주광력시에서부터 전라남도 나주를 거쳐 서해까지 이어지는 영산강에 설치된 승촌보에서 측정한\n",
        "두 종류의 데이터를 담고 있다.\n",
        "\n",
        "- `Chl-a`: 녹조 발생의 주요 요인인 클로로필-A의 수치 100개\n",
        "- `Discharge`: 보에서 방출되는 시간당 방류량 수치 100개\n",
        "\n",
        "클로로필-A 농도가 높을 수록 수질(water quality)이 나빠지며, 방류량이 많을 수록 클로로필-A 농도는 일반적으로 떨어지며,\n",
        "두 데이터 사이의 상관관계를 확인하기 위해 수집되었다."
      ]
    },
    {
      "cell_type": "code",
      "execution_count": null,
      "id": "0371bd73",
      "metadata": {
        "id": "0371bd73",
        "outputId": "dc19de03-005e-4c3f-dd93-c449001cd0f5"
      },
      "outputs": [
        {
          "data": {
            "text/html": [
              "<div>\n",
              "<style scoped>\n",
              "    .dataframe tbody tr th:only-of-type {\n",
              "        vertical-align: middle;\n",
              "    }\n",
              "\n",
              "    .dataframe tbody tr th {\n",
              "        vertical-align: top;\n",
              "    }\n",
              "\n",
              "    .dataframe thead th {\n",
              "        text-align: right;\n",
              "    }\n",
              "</style>\n",
              "<table border=\"1\" class=\"dataframe\">\n",
              "  <thead>\n",
              "    <tr style=\"text-align: right;\">\n",
              "      <th></th>\n",
              "      <th>Chl-a</th>\n",
              "      <th>Discharge</th>\n",
              "    </tr>\n",
              "  </thead>\n",
              "  <tbody>\n",
              "    <tr>\n",
              "      <th>0</th>\n",
              "      <td>51</td>\n",
              "      <td>25</td>\n",
              "    </tr>\n",
              "    <tr>\n",
              "      <th>1</th>\n",
              "      <td>51</td>\n",
              "      <td>25</td>\n",
              "    </tr>\n",
              "    <tr>\n",
              "      <th>2</th>\n",
              "      <td>53</td>\n",
              "      <td>24</td>\n",
              "    </tr>\n",
              "    <tr>\n",
              "      <th>3</th>\n",
              "      <td>53</td>\n",
              "      <td>24</td>\n",
              "    </tr>\n",
              "    <tr>\n",
              "      <th>4</th>\n",
              "      <td>54</td>\n",
              "      <td>22</td>\n",
              "    </tr>\n",
              "    <tr>\n",
              "      <th>...</th>\n",
              "      <td>...</td>\n",
              "      <td>...</td>\n",
              "    </tr>\n",
              "    <tr>\n",
              "      <th>95</th>\n",
              "      <td>122</td>\n",
              "      <td>9</td>\n",
              "    </tr>\n",
              "    <tr>\n",
              "      <th>96</th>\n",
              "      <td>122</td>\n",
              "      <td>9</td>\n",
              "    </tr>\n",
              "    <tr>\n",
              "      <th>97</th>\n",
              "      <td>124</td>\n",
              "      <td>49</td>\n",
              "    </tr>\n",
              "    <tr>\n",
              "      <th>98</th>\n",
              "      <td>125</td>\n",
              "      <td>9</td>\n",
              "    </tr>\n",
              "    <tr>\n",
              "      <th>99</th>\n",
              "      <td>124</td>\n",
              "      <td>9</td>\n",
              "    </tr>\n",
              "  </tbody>\n",
              "</table>\n",
              "<p>100 rows × 2 columns</p>\n",
              "</div>"
            ],
            "text/plain": [
              "    Chl-a  Discharge\n",
              "0      51         25\n",
              "1      51         25\n",
              "2      53         24\n",
              "3      53         24\n",
              "4      54         22\n",
              "..    ...        ...\n",
              "95    122          9\n",
              "96    122          9\n",
              "97    124         49\n",
              "98    125          9\n",
              "99    124          9\n",
              "\n",
              "[100 rows x 2 columns]"
            ]
          },
          "execution_count": 4,
          "metadata": {},
          "output_type": "execute_result"
        }
      ],
      "source": [
        "sc_weir_df = pd.read_csv(data_url+'sc_weir.csv')\n",
        "sc_weir_df"
      ]
    },
    {
      "cell_type": "markdown",
      "id": "ce4de981",
      "metadata": {
        "id": "ce4de981"
      },
      "source": [
        "항목만으로 구성된 넘파이 어레이를 선언한다."
      ]
    },
    {
      "cell_type": "code",
      "execution_count": null,
      "id": "1bceb86b",
      "metadata": {
        "id": "1bceb86b",
        "outputId": "8e7bf3c4-3498-4260-b82a-6156dc3ad2d4"
      },
      "outputs": [
        {
          "data": {
            "text/plain": [
              "(100, 2)"
            ]
          },
          "execution_count": 5,
          "metadata": {},
          "output_type": "execute_result"
        }
      ],
      "source": [
        "sc_weir_arr = sc_weir_df.values\n",
        "sc_weir_arr.shape"
      ]
    },
    {
      "cell_type": "markdown",
      "id": "dbc3bbef",
      "metadata": {
        "id": "dbc3bbef"
      },
      "source": [
        "두 데이터를 별도의 어레이로 지정한다."
      ]
    },
    {
      "cell_type": "code",
      "execution_count": null,
      "id": "32172083",
      "metadata": {
        "id": "32172083"
      },
      "outputs": [],
      "source": [
        "chl_a_arr = sc_weir_arr[:, 0]\n",
        "discharge_arr = sc_weir_arr[:, 1]"
      ]
    },
    {
      "cell_type": "markdown",
      "id": "2190b90e",
      "metadata": {
        "id": "2190b90e"
      },
      "source": [
        "(1) 클로로필-A와 시간당 방류량 사이의 공분산을 계산하고 두 데이터 사이의 상관관계를 설명하라."
      ]
    },
    {
      "cell_type": "markdown",
      "id": "19c3d48c",
      "metadata": {
        "id": "19c3d48c"
      },
      "source": [
        "- 넘파이 활용"
      ]
    },
    {
      "cell_type": "code",
      "execution_count": 13,
      "id": "1149d523",
      "metadata": {
        "colab": {
          "base_uri": "https://localhost:8080/"
        },
        "id": "1149d523",
        "outputId": "45f57563-ac41-4d93-ad6b-cc289b70306c"
      },
      "outputs": [
        {
          "output_type": "execute_result",
          "data": {
            "text/plain": [
              "array([[506.8004, -66.2198],\n",
              "       [-66.2198,  40.2851]])"
            ]
          },
          "metadata": {},
          "execution_count": 13
        }
      ],
      "source": [
        "import pandas as pd\n",
        "import numpy as np\n",
        "data_url = 'https://raw.githubusercontent.com/codingalzi/DataSci/refs/heads/master/data/'\n",
        "sc_weir_df = pd.read_csv(data_url+'sc_weir.csv')\n",
        "sc_weir_arr = sc_weir_df.values\n",
        "sc_weir_arr.shape\n",
        "chl_a_arr = sc_weir_arr[:, 0]\n",
        "discharge_arr = sc_weir_arr[:, 1]\n",
        "chl_scores = np.array(sc_weir_df['Chl-a'])\n",
        "discharge_scores = np.array(sc_weir_df['Discharge'])\n",
        "\n",
        "cov_mat = np.cov(chl_scores, discharge_scores, ddof=0)\n",
        "cov_mat\n",
        "\n",
        "# 클로로필과 방류량 사이의 공분산의 평균이 -66.2198로 음의 상관관계를 나타내는데 이는 x가 높아질수록 y가 낮아진다는 뜻으로, 방류량이 많아질수록 클로로필 수치가 낮아져 수질이 좋아지는 결과로 볼 수 있다."
      ]
    },
    {
      "cell_type": "markdown",
      "id": "aad2f652",
      "metadata": {
        "id": "aad2f652"
      },
      "source": [
        "- 데이터프레임 활용"
      ]
    },
    {
      "cell_type": "code",
      "execution_count": 28,
      "id": "2399e04b",
      "metadata": {
        "colab": {
          "base_uri": "https://localhost:8080/",
          "height": 112
        },
        "id": "2399e04b",
        "outputId": "0a476c81-821e-4706-b7f0-c68652eebddc"
      },
      "outputs": [
        {
          "output_type": "execute_result",
          "data": {
            "text/plain": [
              "                Chl-a  Discharge\n",
              "Chl-a      511.919596 -66.888687\n",
              "Discharge  -66.888687  40.692020"
            ],
            "text/html": [
              "\n",
              "  <div id=\"df-7e4289da-48ea-4c32-954b-1f98719c9429\" class=\"colab-df-container\">\n",
              "    <div>\n",
              "<style scoped>\n",
              "    .dataframe tbody tr th:only-of-type {\n",
              "        vertical-align: middle;\n",
              "    }\n",
              "\n",
              "    .dataframe tbody tr th {\n",
              "        vertical-align: top;\n",
              "    }\n",
              "\n",
              "    .dataframe thead th {\n",
              "        text-align: right;\n",
              "    }\n",
              "</style>\n",
              "<table border=\"1\" class=\"dataframe\">\n",
              "  <thead>\n",
              "    <tr style=\"text-align: right;\">\n",
              "      <th></th>\n",
              "      <th>Chl-a</th>\n",
              "      <th>Discharge</th>\n",
              "    </tr>\n",
              "  </thead>\n",
              "  <tbody>\n",
              "    <tr>\n",
              "      <th>Chl-a</th>\n",
              "      <td>511.919596</td>\n",
              "      <td>-66.888687</td>\n",
              "    </tr>\n",
              "    <tr>\n",
              "      <th>Discharge</th>\n",
              "      <td>-66.888687</td>\n",
              "      <td>40.692020</td>\n",
              "    </tr>\n",
              "  </tbody>\n",
              "</table>\n",
              "</div>\n",
              "    <div class=\"colab-df-buttons\">\n",
              "\n",
              "  <div class=\"colab-df-container\">\n",
              "    <button class=\"colab-df-convert\" onclick=\"convertToInteractive('df-7e4289da-48ea-4c32-954b-1f98719c9429')\"\n",
              "            title=\"Convert this dataframe to an interactive table.\"\n",
              "            style=\"display:none;\">\n",
              "\n",
              "  <svg xmlns=\"http://www.w3.org/2000/svg\" height=\"24px\" viewBox=\"0 -960 960 960\">\n",
              "    <path d=\"M120-120v-720h720v720H120Zm60-500h600v-160H180v160Zm220 220h160v-160H400v160Zm0 220h160v-160H400v160ZM180-400h160v-160H180v160Zm440 0h160v-160H620v160ZM180-180h160v-160H180v160Zm440 0h160v-160H620v160Z\"/>\n",
              "  </svg>\n",
              "    </button>\n",
              "\n",
              "  <style>\n",
              "    .colab-df-container {\n",
              "      display:flex;\n",
              "      gap: 12px;\n",
              "    }\n",
              "\n",
              "    .colab-df-convert {\n",
              "      background-color: #E8F0FE;\n",
              "      border: none;\n",
              "      border-radius: 50%;\n",
              "      cursor: pointer;\n",
              "      display: none;\n",
              "      fill: #1967D2;\n",
              "      height: 32px;\n",
              "      padding: 0 0 0 0;\n",
              "      width: 32px;\n",
              "    }\n",
              "\n",
              "    .colab-df-convert:hover {\n",
              "      background-color: #E2EBFA;\n",
              "      box-shadow: 0px 1px 2px rgba(60, 64, 67, 0.3), 0px 1px 3px 1px rgba(60, 64, 67, 0.15);\n",
              "      fill: #174EA6;\n",
              "    }\n",
              "\n",
              "    .colab-df-buttons div {\n",
              "      margin-bottom: 4px;\n",
              "    }\n",
              "\n",
              "    [theme=dark] .colab-df-convert {\n",
              "      background-color: #3B4455;\n",
              "      fill: #D2E3FC;\n",
              "    }\n",
              "\n",
              "    [theme=dark] .colab-df-convert:hover {\n",
              "      background-color: #434B5C;\n",
              "      box-shadow: 0px 1px 3px 1px rgba(0, 0, 0, 0.15);\n",
              "      filter: drop-shadow(0px 1px 2px rgba(0, 0, 0, 0.3));\n",
              "      fill: #FFFFFF;\n",
              "    }\n",
              "  </style>\n",
              "\n",
              "    <script>\n",
              "      const buttonEl =\n",
              "        document.querySelector('#df-7e4289da-48ea-4c32-954b-1f98719c9429 button.colab-df-convert');\n",
              "      buttonEl.style.display =\n",
              "        google.colab.kernel.accessAllowed ? 'block' : 'none';\n",
              "\n",
              "      async function convertToInteractive(key) {\n",
              "        const element = document.querySelector('#df-7e4289da-48ea-4c32-954b-1f98719c9429');\n",
              "        const dataTable =\n",
              "          await google.colab.kernel.invokeFunction('convertToInteractive',\n",
              "                                                    [key], {});\n",
              "        if (!dataTable) return;\n",
              "\n",
              "        const docLinkHtml = 'Like what you see? Visit the ' +\n",
              "          '<a target=\"_blank\" href=https://colab.research.google.com/notebooks/data_table.ipynb>data table notebook</a>'\n",
              "          + ' to learn more about interactive tables.';\n",
              "        element.innerHTML = '';\n",
              "        dataTable['output_type'] = 'display_data';\n",
              "        await google.colab.output.renderOutput(dataTable, element);\n",
              "        const docLink = document.createElement('div');\n",
              "        docLink.innerHTML = docLinkHtml;\n",
              "        element.appendChild(docLink);\n",
              "      }\n",
              "    </script>\n",
              "  </div>\n",
              "\n",
              "\n",
              "<div id=\"df-6d73a130-bc47-4d70-a31d-6b7189bb6e6d\">\n",
              "  <button class=\"colab-df-quickchart\" onclick=\"quickchart('df-6d73a130-bc47-4d70-a31d-6b7189bb6e6d')\"\n",
              "            title=\"Suggest charts\"\n",
              "            style=\"display:none;\">\n",
              "\n",
              "<svg xmlns=\"http://www.w3.org/2000/svg\" height=\"24px\"viewBox=\"0 0 24 24\"\n",
              "     width=\"24px\">\n",
              "    <g>\n",
              "        <path d=\"M19 3H5c-1.1 0-2 .9-2 2v14c0 1.1.9 2 2 2h14c1.1 0 2-.9 2-2V5c0-1.1-.9-2-2-2zM9 17H7v-7h2v7zm4 0h-2V7h2v10zm4 0h-2v-4h2v4z\"/>\n",
              "    </g>\n",
              "</svg>\n",
              "  </button>\n",
              "\n",
              "<style>\n",
              "  .colab-df-quickchart {\n",
              "      --bg-color: #E8F0FE;\n",
              "      --fill-color: #1967D2;\n",
              "      --hover-bg-color: #E2EBFA;\n",
              "      --hover-fill-color: #174EA6;\n",
              "      --disabled-fill-color: #AAA;\n",
              "      --disabled-bg-color: #DDD;\n",
              "  }\n",
              "\n",
              "  [theme=dark] .colab-df-quickchart {\n",
              "      --bg-color: #3B4455;\n",
              "      --fill-color: #D2E3FC;\n",
              "      --hover-bg-color: #434B5C;\n",
              "      --hover-fill-color: #FFFFFF;\n",
              "      --disabled-bg-color: #3B4455;\n",
              "      --disabled-fill-color: #666;\n",
              "  }\n",
              "\n",
              "  .colab-df-quickchart {\n",
              "    background-color: var(--bg-color);\n",
              "    border: none;\n",
              "    border-radius: 50%;\n",
              "    cursor: pointer;\n",
              "    display: none;\n",
              "    fill: var(--fill-color);\n",
              "    height: 32px;\n",
              "    padding: 0;\n",
              "    width: 32px;\n",
              "  }\n",
              "\n",
              "  .colab-df-quickchart:hover {\n",
              "    background-color: var(--hover-bg-color);\n",
              "    box-shadow: 0 1px 2px rgba(60, 64, 67, 0.3), 0 1px 3px 1px rgba(60, 64, 67, 0.15);\n",
              "    fill: var(--button-hover-fill-color);\n",
              "  }\n",
              "\n",
              "  .colab-df-quickchart-complete:disabled,\n",
              "  .colab-df-quickchart-complete:disabled:hover {\n",
              "    background-color: var(--disabled-bg-color);\n",
              "    fill: var(--disabled-fill-color);\n",
              "    box-shadow: none;\n",
              "  }\n",
              "\n",
              "  .colab-df-spinner {\n",
              "    border: 2px solid var(--fill-color);\n",
              "    border-color: transparent;\n",
              "    border-bottom-color: var(--fill-color);\n",
              "    animation:\n",
              "      spin 1s steps(1) infinite;\n",
              "  }\n",
              "\n",
              "  @keyframes spin {\n",
              "    0% {\n",
              "      border-color: transparent;\n",
              "      border-bottom-color: var(--fill-color);\n",
              "      border-left-color: var(--fill-color);\n",
              "    }\n",
              "    20% {\n",
              "      border-color: transparent;\n",
              "      border-left-color: var(--fill-color);\n",
              "      border-top-color: var(--fill-color);\n",
              "    }\n",
              "    30% {\n",
              "      border-color: transparent;\n",
              "      border-left-color: var(--fill-color);\n",
              "      border-top-color: var(--fill-color);\n",
              "      border-right-color: var(--fill-color);\n",
              "    }\n",
              "    40% {\n",
              "      border-color: transparent;\n",
              "      border-right-color: var(--fill-color);\n",
              "      border-top-color: var(--fill-color);\n",
              "    }\n",
              "    60% {\n",
              "      border-color: transparent;\n",
              "      border-right-color: var(--fill-color);\n",
              "    }\n",
              "    80% {\n",
              "      border-color: transparent;\n",
              "      border-right-color: var(--fill-color);\n",
              "      border-bottom-color: var(--fill-color);\n",
              "    }\n",
              "    90% {\n",
              "      border-color: transparent;\n",
              "      border-bottom-color: var(--fill-color);\n",
              "    }\n",
              "  }\n",
              "</style>\n",
              "\n",
              "  <script>\n",
              "    async function quickchart(key) {\n",
              "      const quickchartButtonEl =\n",
              "        document.querySelector('#' + key + ' button');\n",
              "      quickchartButtonEl.disabled = true;  // To prevent multiple clicks.\n",
              "      quickchartButtonEl.classList.add('colab-df-spinner');\n",
              "      try {\n",
              "        const charts = await google.colab.kernel.invokeFunction(\n",
              "            'suggestCharts', [key], {});\n",
              "      } catch (error) {\n",
              "        console.error('Error during call to suggestCharts:', error);\n",
              "      }\n",
              "      quickchartButtonEl.classList.remove('colab-df-spinner');\n",
              "      quickchartButtonEl.classList.add('colab-df-quickchart-complete');\n",
              "    }\n",
              "    (() => {\n",
              "      let quickchartButtonEl =\n",
              "        document.querySelector('#df-6d73a130-bc47-4d70-a31d-6b7189bb6e6d button');\n",
              "      quickchartButtonEl.style.display =\n",
              "        google.colab.kernel.accessAllowed ? 'block' : 'none';\n",
              "    })();\n",
              "  </script>\n",
              "</div>\n",
              "\n",
              "    </div>\n",
              "  </div>\n"
            ],
            "application/vnd.google.colaboratory.intrinsic+json": {
              "type": "dataframe",
              "summary": "{\n  \"name\": \"# \\ud074\\ub85c\\ub85c\\ud544\\uacfc \\ubc29\\ub958\\ub7c9 \\uc0ac\\uc774\\uc758 \\uacf5\\ubd84\\uc0b0\\uc758 \\ud3c9\\uade0\\uc774 -66\",\n  \"rows\": 2,\n  \"fields\": [\n    {\n      \"column\": \"Chl-a\",\n      \"properties\": {\n        \"dtype\": \"number\",\n        \"std\": 409.27926179482006,\n        \"min\": -66.8886868686869,\n        \"max\": 511.91959595959617,\n        \"num_unique_values\": 2,\n        \"samples\": [\n          -66.8886868686869,\n          511.91959595959617\n        ],\n        \"semantic_type\": \"\",\n        \"description\": \"\"\n      }\n    },\n    {\n      \"column\": \"Discharge\",\n      \"properties\": {\n        \"dtype\": \"number\",\n        \"std\": 76.07104749454057,\n        \"min\": -66.8886868686869,\n        \"max\": 40.69202020202021,\n        \"num_unique_values\": 2,\n        \"samples\": [\n          40.69202020202021,\n          -66.8886868686869\n        ],\n        \"semantic_type\": \"\",\n        \"description\": \"\"\n      }\n    }\n  ]\n}"
            }
          },
          "metadata": {},
          "execution_count": 28
        }
      ],
      "source": [
        "import pandas as pd\n",
        "import numpy as np\n",
        "data_url = 'https://raw.githubusercontent.com/codingalzi/DataSci/refs/heads/master/data/'\n",
        "sc_weir_df = pd.read_csv(data_url+'sc_weir.csv')\n",
        "sc_weir_arr = sc_weir_df.values\n",
        "sc_weir_arr.shape\n",
        "chl_a_arr = sc_weir_arr[:, 0]\n",
        "discharge_arr = sc_weir_arr[:, 1]\n",
        "summary_df = sc_weir_df.copy()\n",
        "summary_df.cov()\n",
        "\n",
        "# 클로로필과 방류량 사이의 공분산의 평균이 -66.888로 음의 상관관계를 나타내는데 이는 x가 높아질수록 y가 낮아진다는 뜻으로, 방류량이 많아질수록 클로로필 수치가 낮아져 수질이 좋아지는 결과로 볼 수 있다."
      ]
    },
    {
      "cell_type": "markdown",
      "id": "38a364fc",
      "metadata": {
        "id": "38a364fc"
      },
      "source": [
        "(2) 클로로필-A와 시간당 방류량 사이의 피어슨 상관계수를 계산하고 두 데이터 사이의 선형 상관관계를 설명하라."
      ]
    },
    {
      "cell_type": "markdown",
      "id": "7eeb836f",
      "metadata": {
        "id": "7eeb836f"
      },
      "source": [
        "- 넘파이 활용"
      ]
    },
    {
      "cell_type": "code",
      "execution_count": 22,
      "id": "5a4b432b",
      "metadata": {
        "colab": {
          "base_uri": "https://localhost:8080/"
        },
        "id": "5a4b432b",
        "outputId": "1149188c-0e96-48c6-cf04-5cfce83d75e3"
      },
      "outputs": [
        {
          "output_type": "execute_result",
          "data": {
            "text/plain": [
              "array([[ 1.       , -0.4634439],\n",
              "       [-0.4634439,  1.       ]])"
            ]
          },
          "metadata": {},
          "execution_count": 22
        }
      ],
      "source": [
        "import pandas as pd\n",
        "import numpy as np\n",
        "data_url = 'https://raw.githubusercontent.com/codingalzi/DataSci/refs/heads/master/data/'\n",
        "sc_weir_df = pd.read_csv(data_url+'sc_weir.csv')\n",
        "sc_weir_arr = sc_weir_df.values\n",
        "sc_weir_arr.shape\n",
        "chl_a_arr = sc_weir_arr[:, 0]\n",
        "discharge_arr = sc_weir_arr[:, 1]\n",
        "chl_scores = np.array(sc_weir_df['Chl-a'])\n",
        "discharge_scores = np.array(sc_weir_df['Discharge'])\n",
        "\n",
        "cov_mat = np.cov(chl_scores, discharge_scores, ddof=0)\n",
        "cov_mat\n",
        "\n",
        "np.corrcoef(chl_scores, discharge_scores)\n",
        "# 상관계수가 -0.4634439로 음의 상관계수가 많이는 아니지만 어느정도 상관이 있다는 것으로 볼 수 있다. 즉 방류량이 많을수록 클로로필 수치가 낮아지는 것은 어느정도 상관이 있다고 볼 수 있다."
      ]
    },
    {
      "cell_type": "markdown",
      "id": "ce0d6077",
      "metadata": {
        "id": "ce0d6077"
      },
      "source": [
        "- 데이터프레임 활용"
      ]
    },
    {
      "cell_type": "code",
      "execution_count": 25,
      "id": "614c20f6",
      "metadata": {
        "colab": {
          "base_uri": "https://localhost:8080/",
          "height": 112
        },
        "id": "614c20f6",
        "outputId": "f90dd845-2028-4c3d-e37e-df46b06b52e4"
      },
      "outputs": [
        {
          "output_type": "execute_result",
          "data": {
            "text/plain": [
              "              Chl-a  Discharge\n",
              "Chl-a      1.000000  -0.463444\n",
              "Discharge -0.463444   1.000000"
            ],
            "text/html": [
              "\n",
              "  <div id=\"df-d0db9975-10f0-4a08-9a3a-a55f38b28de1\" class=\"colab-df-container\">\n",
              "    <div>\n",
              "<style scoped>\n",
              "    .dataframe tbody tr th:only-of-type {\n",
              "        vertical-align: middle;\n",
              "    }\n",
              "\n",
              "    .dataframe tbody tr th {\n",
              "        vertical-align: top;\n",
              "    }\n",
              "\n",
              "    .dataframe thead th {\n",
              "        text-align: right;\n",
              "    }\n",
              "</style>\n",
              "<table border=\"1\" class=\"dataframe\">\n",
              "  <thead>\n",
              "    <tr style=\"text-align: right;\">\n",
              "      <th></th>\n",
              "      <th>Chl-a</th>\n",
              "      <th>Discharge</th>\n",
              "    </tr>\n",
              "  </thead>\n",
              "  <tbody>\n",
              "    <tr>\n",
              "      <th>Chl-a</th>\n",
              "      <td>1.000000</td>\n",
              "      <td>-0.463444</td>\n",
              "    </tr>\n",
              "    <tr>\n",
              "      <th>Discharge</th>\n",
              "      <td>-0.463444</td>\n",
              "      <td>1.000000</td>\n",
              "    </tr>\n",
              "  </tbody>\n",
              "</table>\n",
              "</div>\n",
              "    <div class=\"colab-df-buttons\">\n",
              "\n",
              "  <div class=\"colab-df-container\">\n",
              "    <button class=\"colab-df-convert\" onclick=\"convertToInteractive('df-d0db9975-10f0-4a08-9a3a-a55f38b28de1')\"\n",
              "            title=\"Convert this dataframe to an interactive table.\"\n",
              "            style=\"display:none;\">\n",
              "\n",
              "  <svg xmlns=\"http://www.w3.org/2000/svg\" height=\"24px\" viewBox=\"0 -960 960 960\">\n",
              "    <path d=\"M120-120v-720h720v720H120Zm60-500h600v-160H180v160Zm220 220h160v-160H400v160Zm0 220h160v-160H400v160ZM180-400h160v-160H180v160Zm440 0h160v-160H620v160ZM180-180h160v-160H180v160Zm440 0h160v-160H620v160Z\"/>\n",
              "  </svg>\n",
              "    </button>\n",
              "\n",
              "  <style>\n",
              "    .colab-df-container {\n",
              "      display:flex;\n",
              "      gap: 12px;\n",
              "    }\n",
              "\n",
              "    .colab-df-convert {\n",
              "      background-color: #E8F0FE;\n",
              "      border: none;\n",
              "      border-radius: 50%;\n",
              "      cursor: pointer;\n",
              "      display: none;\n",
              "      fill: #1967D2;\n",
              "      height: 32px;\n",
              "      padding: 0 0 0 0;\n",
              "      width: 32px;\n",
              "    }\n",
              "\n",
              "    .colab-df-convert:hover {\n",
              "      background-color: #E2EBFA;\n",
              "      box-shadow: 0px 1px 2px rgba(60, 64, 67, 0.3), 0px 1px 3px 1px rgba(60, 64, 67, 0.15);\n",
              "      fill: #174EA6;\n",
              "    }\n",
              "\n",
              "    .colab-df-buttons div {\n",
              "      margin-bottom: 4px;\n",
              "    }\n",
              "\n",
              "    [theme=dark] .colab-df-convert {\n",
              "      background-color: #3B4455;\n",
              "      fill: #D2E3FC;\n",
              "    }\n",
              "\n",
              "    [theme=dark] .colab-df-convert:hover {\n",
              "      background-color: #434B5C;\n",
              "      box-shadow: 0px 1px 3px 1px rgba(0, 0, 0, 0.15);\n",
              "      filter: drop-shadow(0px 1px 2px rgba(0, 0, 0, 0.3));\n",
              "      fill: #FFFFFF;\n",
              "    }\n",
              "  </style>\n",
              "\n",
              "    <script>\n",
              "      const buttonEl =\n",
              "        document.querySelector('#df-d0db9975-10f0-4a08-9a3a-a55f38b28de1 button.colab-df-convert');\n",
              "      buttonEl.style.display =\n",
              "        google.colab.kernel.accessAllowed ? 'block' : 'none';\n",
              "\n",
              "      async function convertToInteractive(key) {\n",
              "        const element = document.querySelector('#df-d0db9975-10f0-4a08-9a3a-a55f38b28de1');\n",
              "        const dataTable =\n",
              "          await google.colab.kernel.invokeFunction('convertToInteractive',\n",
              "                                                    [key], {});\n",
              "        if (!dataTable) return;\n",
              "\n",
              "        const docLinkHtml = 'Like what you see? Visit the ' +\n",
              "          '<a target=\"_blank\" href=https://colab.research.google.com/notebooks/data_table.ipynb>data table notebook</a>'\n",
              "          + ' to learn more about interactive tables.';\n",
              "        element.innerHTML = '';\n",
              "        dataTable['output_type'] = 'display_data';\n",
              "        await google.colab.output.renderOutput(dataTable, element);\n",
              "        const docLink = document.createElement('div');\n",
              "        docLink.innerHTML = docLinkHtml;\n",
              "        element.appendChild(docLink);\n",
              "      }\n",
              "    </script>\n",
              "  </div>\n",
              "\n",
              "\n",
              "<div id=\"df-aaeb5e23-0b25-42f0-be85-1c1d74c50277\">\n",
              "  <button class=\"colab-df-quickchart\" onclick=\"quickchart('df-aaeb5e23-0b25-42f0-be85-1c1d74c50277')\"\n",
              "            title=\"Suggest charts\"\n",
              "            style=\"display:none;\">\n",
              "\n",
              "<svg xmlns=\"http://www.w3.org/2000/svg\" height=\"24px\"viewBox=\"0 0 24 24\"\n",
              "     width=\"24px\">\n",
              "    <g>\n",
              "        <path d=\"M19 3H5c-1.1 0-2 .9-2 2v14c0 1.1.9 2 2 2h14c1.1 0 2-.9 2-2V5c0-1.1-.9-2-2-2zM9 17H7v-7h2v7zm4 0h-2V7h2v10zm4 0h-2v-4h2v4z\"/>\n",
              "    </g>\n",
              "</svg>\n",
              "  </button>\n",
              "\n",
              "<style>\n",
              "  .colab-df-quickchart {\n",
              "      --bg-color: #E8F0FE;\n",
              "      --fill-color: #1967D2;\n",
              "      --hover-bg-color: #E2EBFA;\n",
              "      --hover-fill-color: #174EA6;\n",
              "      --disabled-fill-color: #AAA;\n",
              "      --disabled-bg-color: #DDD;\n",
              "  }\n",
              "\n",
              "  [theme=dark] .colab-df-quickchart {\n",
              "      --bg-color: #3B4455;\n",
              "      --fill-color: #D2E3FC;\n",
              "      --hover-bg-color: #434B5C;\n",
              "      --hover-fill-color: #FFFFFF;\n",
              "      --disabled-bg-color: #3B4455;\n",
              "      --disabled-fill-color: #666;\n",
              "  }\n",
              "\n",
              "  .colab-df-quickchart {\n",
              "    background-color: var(--bg-color);\n",
              "    border: none;\n",
              "    border-radius: 50%;\n",
              "    cursor: pointer;\n",
              "    display: none;\n",
              "    fill: var(--fill-color);\n",
              "    height: 32px;\n",
              "    padding: 0;\n",
              "    width: 32px;\n",
              "  }\n",
              "\n",
              "  .colab-df-quickchart:hover {\n",
              "    background-color: var(--hover-bg-color);\n",
              "    box-shadow: 0 1px 2px rgba(60, 64, 67, 0.3), 0 1px 3px 1px rgba(60, 64, 67, 0.15);\n",
              "    fill: var(--button-hover-fill-color);\n",
              "  }\n",
              "\n",
              "  .colab-df-quickchart-complete:disabled,\n",
              "  .colab-df-quickchart-complete:disabled:hover {\n",
              "    background-color: var(--disabled-bg-color);\n",
              "    fill: var(--disabled-fill-color);\n",
              "    box-shadow: none;\n",
              "  }\n",
              "\n",
              "  .colab-df-spinner {\n",
              "    border: 2px solid var(--fill-color);\n",
              "    border-color: transparent;\n",
              "    border-bottom-color: var(--fill-color);\n",
              "    animation:\n",
              "      spin 1s steps(1) infinite;\n",
              "  }\n",
              "\n",
              "  @keyframes spin {\n",
              "    0% {\n",
              "      border-color: transparent;\n",
              "      border-bottom-color: var(--fill-color);\n",
              "      border-left-color: var(--fill-color);\n",
              "    }\n",
              "    20% {\n",
              "      border-color: transparent;\n",
              "      border-left-color: var(--fill-color);\n",
              "      border-top-color: var(--fill-color);\n",
              "    }\n",
              "    30% {\n",
              "      border-color: transparent;\n",
              "      border-left-color: var(--fill-color);\n",
              "      border-top-color: var(--fill-color);\n",
              "      border-right-color: var(--fill-color);\n",
              "    }\n",
              "    40% {\n",
              "      border-color: transparent;\n",
              "      border-right-color: var(--fill-color);\n",
              "      border-top-color: var(--fill-color);\n",
              "    }\n",
              "    60% {\n",
              "      border-color: transparent;\n",
              "      border-right-color: var(--fill-color);\n",
              "    }\n",
              "    80% {\n",
              "      border-color: transparent;\n",
              "      border-right-color: var(--fill-color);\n",
              "      border-bottom-color: var(--fill-color);\n",
              "    }\n",
              "    90% {\n",
              "      border-color: transparent;\n",
              "      border-bottom-color: var(--fill-color);\n",
              "    }\n",
              "  }\n",
              "</style>\n",
              "\n",
              "  <script>\n",
              "    async function quickchart(key) {\n",
              "      const quickchartButtonEl =\n",
              "        document.querySelector('#' + key + ' button');\n",
              "      quickchartButtonEl.disabled = true;  // To prevent multiple clicks.\n",
              "      quickchartButtonEl.classList.add('colab-df-spinner');\n",
              "      try {\n",
              "        const charts = await google.colab.kernel.invokeFunction(\n",
              "            'suggestCharts', [key], {});\n",
              "      } catch (error) {\n",
              "        console.error('Error during call to suggestCharts:', error);\n",
              "      }\n",
              "      quickchartButtonEl.classList.remove('colab-df-spinner');\n",
              "      quickchartButtonEl.classList.add('colab-df-quickchart-complete');\n",
              "    }\n",
              "    (() => {\n",
              "      let quickchartButtonEl =\n",
              "        document.querySelector('#df-aaeb5e23-0b25-42f0-be85-1c1d74c50277 button');\n",
              "      quickchartButtonEl.style.display =\n",
              "        google.colab.kernel.accessAllowed ? 'block' : 'none';\n",
              "    })();\n",
              "  </script>\n",
              "</div>\n",
              "\n",
              "    </div>\n",
              "  </div>\n"
            ],
            "application/vnd.google.colaboratory.intrinsic+json": {
              "type": "dataframe",
              "summary": "{\n  \"name\": \"sc_weir_df\",\n  \"rows\": 2,\n  \"fields\": [\n    {\n      \"column\": \"Chl-a\",\n      \"properties\": {\n        \"dtype\": \"number\",\n        \"std\": 1.034811103332351,\n        \"min\": -0.46344389682687714,\n        \"max\": 1.0,\n        \"num_unique_values\": 2,\n        \"samples\": [\n          -0.46344389682687714,\n          1.0\n        ],\n        \"semantic_type\": \"\",\n        \"description\": \"\"\n      }\n    },\n    {\n      \"column\": \"Discharge\",\n      \"properties\": {\n        \"dtype\": \"number\",\n        \"std\": 1.034811103332351,\n        \"min\": -0.46344389682687714,\n        \"max\": 1.0,\n        \"num_unique_values\": 2,\n        \"samples\": [\n          1.0,\n          -0.46344389682687714\n        ],\n        \"semantic_type\": \"\",\n        \"description\": \"\"\n      }\n    }\n  ]\n}"
            }
          },
          "metadata": {},
          "execution_count": 25
        }
      ],
      "source": [
        "import pandas as pd\n",
        "import numpy as np\n",
        "data_url = 'https://raw.githubusercontent.com/codingalzi/DataSci/refs/heads/master/data/'\n",
        "sc_weir_df = pd.read_csv(data_url+'sc_weir.csv')\n",
        "sc_weir_arr = sc_weir_df.values\n",
        "sc_weir_arr.shape\n",
        "chl_a_arr = sc_weir_arr[:, 0]\n",
        "discharge_arr = sc_weir_arr[:, 1]\n",
        "summary_df = sc_weir_df.copy()\n",
        "\n",
        "sc_weir_df.corr()\n",
        "\n",
        "# 상관계수가 -0.4634439로 음의 상관계수가 많이는 아니지만 어느정도 상관이 있다는 것으로 볼 수 있다. 즉 방류량이 많을수록 클로로필 수치가 낮아지는 것은 어느정도 상관이 있다고 볼 수 있다."
      ]
    },
    {
      "cell_type": "markdown",
      "id": "ce0db165",
      "metadata": {
        "id": "ce0db165"
      },
      "source": [
        "(3) x-축을 방류량, y-축을 클로로필-A 수치로 지정한 다음 산점도를 그린다."
      ]
    },
    {
      "cell_type": "markdown",
      "id": "0da4e3cf",
      "metadata": {
        "id": "0da4e3cf"
      },
      "source": [
        "- 넘파이 활용"
      ]
    },
    {
      "cell_type": "code",
      "execution_count": 30,
      "id": "55310aad",
      "metadata": {
        "colab": {
          "base_uri": "https://localhost:8080/",
          "height": 467
        },
        "id": "55310aad",
        "outputId": "35a95797-babc-46a9-a6a8-72da6c4b5bb5"
      },
      "outputs": [
        {
          "output_type": "execute_result",
          "data": {
            "text/plain": [
              "Text(0, 0.5, 'chl-a')"
            ]
          },
          "metadata": {},
          "execution_count": 30
        },
        {
          "output_type": "display_data",
          "data": {
            "text/plain": [
              "<Figure size 640x480 with 1 Axes>"
            ],
            "image/png": "[encoded data removed]"
          },
          "metadata": {}
        }
      ],
      "source": [
        "import pandas as pd\n",
        "import numpy as np\n",
        "import matplotlib.pyplot as plt\n",
        "data_url = 'https://raw.githubusercontent.com/codingalzi/DataSci/refs/heads/master/data/'\n",
        "sc_weir_df = pd.read_csv(data_url+'sc_weir.csv')\n",
        "sc_weir_arr = sc_weir_df.values\n",
        "sc_weir_arr.shape\n",
        "chl_a_arr = sc_weir_arr[:, 0]\n",
        "discharge_arr = sc_weir_arr[:, 1]\n",
        "chl_scores = np.array(sc_weir_df['Chl-a'])\n",
        "discharge_scores = np.array(sc_weir_df['Discharge'])\n",
        "\n",
        "plt.scatter(discharge_scores, chl_scores)\n",
        "plt.xlabel('discharge')\n",
        "plt.ylabel('chl-a')\n",
        "\n",
        "\n"
      ]
    },
    {
      "cell_type": "markdown",
      "id": "a06795b0",
      "metadata": {
        "id": "a06795b0"
      },
      "source": [
        "- 데이터프레임 활용"
      ]
    },
    {
      "cell_type": "code",
      "execution_count": 39,
      "id": "5d6588b9",
      "metadata": {
        "colab": {
          "base_uri": "https://localhost:8080/",
          "height": 467
        },
        "id": "5d6588b9",
        "outputId": "86ae5ac2-1380-4378-8b66-487d186710ad"
      },
      "outputs": [
        {
          "output_type": "execute_result",
          "data": {
            "text/plain": [
              "Text(0, 0.5, 'chl-a')"
            ]
          },
          "metadata": {},
          "execution_count": 39
        },
        {
          "output_type": "display_data",
          "data": {
            "text/plain": [
              "<Figure size 640x480 with 1 Axes>"
            ],
            "image/png": "[encoded data removed]"
          },
          "metadata": {}
        }
      ],
      "source": [
        "import pandas as pd\n",
        "import numpy as np\n",
        "import matplotlib.pyplot as plt\n",
        "data_url = 'https://raw.githubusercontent.com/codingalzi/DataSci/refs/heads/master/data/'\n",
        "sc_weir_df = pd.read_csv(data_url+'sc_weir.csv')\n",
        "sc_weir_chl = sc_weir_df['Chl-a']\n",
        "sc_weir_dis = sc_weir_df['Discharge']\n",
        "\n",
        "plt.scatter(sc_weir_dis, sc_weir_chl)\n",
        "plt.xlabel('discharge')\n",
        "plt.ylabel('chl-a')\n"
      ]
    },
    {
      "cell_type": "markdown",
      "id": "fe1b7c70",
      "metadata": {
        "id": "fe1b7c70"
      },
      "source": [
        "(4) 위 산점도에 따르면 두 개의 이상치가 존재한다.\n",
        "어떤 데이터가 이상치인지 설명하라."
      ]
    },
    {
      "cell_type": "code",
      "execution_count": null,
      "id": "afb48141",
      "metadata": {
        "id": "afb48141"
      },
      "outputs": [],
      "source": [
        "#산점도 오른쪽 상단에 있는 두개의 데이터가 이상치이다. 두개의 데이터 전부 방류량이 50이상인데 클로로필수치가 120을 넘기고 있어, 음의 상관관계에 맞지않는 데이터이다."
      ]
    },
    {
      "cell_type": "markdown",
      "id": "34b67544",
      "metadata": {
        "id": "34b67544"
      },
      "source": [
        "(5) 클로로필-A 데이터와 방수량 두 데이터셋 모두에서 이상치에 해당하는 두 개의 값을 제거한다."
      ]
    },
    {
      "cell_type": "markdown",
      "id": "7e8fd1b9",
      "metadata": {
        "id": "7e8fd1b9"
      },
      "source": [
        "- 데이터프레임 활용"
      ]
    },
    {
      "cell_type": "code",
      "execution_count": 60,
      "id": "d9c32e88",
      "metadata": {
        "id": "d9c32e88"
      },
      "outputs": [],
      "source": [
        "import pandas as pd\n",
        "import numpy as np\n",
        "import matplotlib.pyplot as plt\n",
        "from scipy.stats import zscore\n",
        "\n",
        "data_url = 'https://raw.githubusercontent.com/codingalzi/DataSci/refs/heads/master/data/'\n",
        "sc_weir_df = pd.read_csv(data_url+'sc_weir.csv')\n",
        "sc_weir_chl = sc_weir_df['Chl-a']\n",
        "sc_weir_dis = sc_weir_df['Discharge']\n",
        "sc_weir_dis\n",
        "z_chl = zscore(sc_weir_chl)\n",
        "z_dis = zscore(sc_weir_dis)\n",
        "\n",
        "# Z-Score가 3 이상 또는 -3 이하인 값을 이상치로 간주\n",
        "threshold = 3\n",
        "sc_weir_df_cleaned = sc_weir_df[(abs(z_chl) < threshold) & (abs(z_dis) < threshold)]\n",
        "#sc_weir_98 = sc_weir_dis.iloc[:102]\n",
        "#sc_weir_98\n",
        "#plt.scatter(sc_weir_dis, sc_weir_chl)\n",
        "#plt.xlabel('discharge')\n",
        "#plt.ylabel('chl-a')\n",
        "#sc_weir_df"
      ]
    },
    {
      "cell_type": "markdown",
      "id": "72704922",
      "metadata": {
        "id": "72704922"
      },
      "source": [
        "(6) 이상치를 제거한 두 데이터셋을 이용하여 산점도를 다시 그려본다."
      ]
    },
    {
      "cell_type": "markdown",
      "id": "642cdd21",
      "metadata": {
        "id": "642cdd21"
      },
      "source": [
        "- 데이터프레임 활용"
      ]
    },
    {
      "cell_type": "code",
      "execution_count": 61,
      "id": "a9be00ac",
      "metadata": {
        "colab": {
          "base_uri": "https://localhost:8080/",
          "height": 449
        },
        "id": "a9be00ac",
        "outputId": "7c0f9f26-5a3a-4d4e-d8c5-e8207554dc6b"
      },
      "outputs": [
        {
          "output_type": "display_data",
          "data": {
            "text/plain": [
              "<Figure size 640x480 with 1 Axes>"
            ],
            "image/png": "[encoded data removed]"
          },
          "metadata": {}
        }
      ],
      "source": [
        "import pandas as pd\n",
        "import numpy as np\n",
        "import matplotlib.pyplot as plt\n",
        "from scipy.stats import zscore\n",
        "\n",
        "data_url = 'https://raw.githubusercontent.com/codingalzi/DataSci/refs/heads/master/data/'\n",
        "sc_weir_df = pd.read_csv(data_url+'sc_weir.csv')\n",
        "sc_weir_chl = sc_weir_df['Chl-a']\n",
        "sc_weir_dis = sc_weir_df['Discharge']\n",
        "sc_weir_dis\n",
        "z_chl = zscore(sc_weir_chl)\n",
        "z_dis = zscore(sc_weir_dis)\n",
        "\n",
        "# Z-Score가 3 이상 또는 -3 이하인 값을 이상치로 간주\n",
        "threshold = 3\n",
        "sc_weir_df_cleaned = sc_weir_df[(abs(z_chl) < threshold) & (abs(z_dis) < threshold)]\n",
        "plt.scatter(sc_weir_df_cleaned['Discharge'], sc_weir_df_cleaned['Chl-a'])\n",
        "plt.xlabel('Discharge')\n",
        "plt.ylabel('Chl-a')\n",
        "plt.show()"
      ]
    },
    {
      "cell_type": "markdown",
      "id": "8002b022",
      "metadata": {
        "id": "8002b022"
      },
      "source": [
        "(7) 이상치를 제거하기 이전과 이후의 데이터셋을 이용하여 방류량과 관련하여 아래 값들이 어떻게 달라졌는지 확인한다.\n",
        "단, 공분산과 피어슨 상관계수는 클로로필-A 데이터와 관련해서 계산한다.\n",
        "\n",
        "- 평균값\n",
        "- 중앙값\n",
        "- 최빈값\n",
        "- 범위\n",
        "- 사분범위\n",
        "- 분산\n",
        "- 표준편차\n",
        "- 공분산\n",
        "- 피어슨 상관계수\n",
        "\n",
        "힌트: 데이터프레임만 활용"
      ]
    },
    {
      "cell_type": "code",
      "execution_count": 85,
      "id": "e66f196f",
      "metadata": {
        "colab": {
          "base_uri": "https://localhost:8080/"
        },
        "id": "e66f196f",
        "outputId": "e0ea0817-fd56-425e-9a3f-62e35047a48d"
      },
      "outputs": [
        {
          "output_type": "stream",
          "name": "stdout",
          "text": [
            "\n",
            "### 이상치 제거 이후 ###\n",
            "\n",
            "[이상치 제거 이후] 평균값 (Chl-a): 93.43877551020408\n",
            "[이상치 제거 이후] 중앙값 (Chl-a): 97.5\n",
            "[이상치 제거 이후] 최빈값 (Chl-a): 122\n",
            "[이상치 제거 이후] 범위 (Chl-a): 74\n",
            "[이상치 제거 이후] 사분범위 (Chl-a): 40.5\n",
            "[이상치 제거 이후] 분산 (Chl-a): 511.6508520934147\n",
            "[이상치 제거 이후] 표준편차 (Chl-a): 22.61970053058649\n",
            "[이상치 제거 이후] 공분산 (Chl-a, Chl-a): 511.65085209341464\n",
            "[이상치 제거 이후] 피어슨 상관계수 (Chl-a, Chl-a): 1.0\n"
          ]
        }
      ],
      "source": [
        "import pandas as pd\n",
        "import numpy as np\n",
        "import matplotlib.pyplot as plt\n",
        "from scipy.stats import zscore\n",
        "\n",
        "data_url = 'https://raw.githubusercontent.com/codingalzi/DataSci/refs/heads/master/data/'\n",
        "sc_weir_df = pd.read_csv(data_url+'sc_weir.csv')\n",
        "sc_weir_chl = sc_weir_df['Chl-a']\n",
        "sc_weir_dis = sc_weir_df['Discharge']\n",
        "sc_weir_dis\n",
        "z_chl = zscore(sc_weir_chl)\n",
        "z_dis = zscore(sc_weir_dis)\n",
        "\n",
        "# Z-Score가 3 이상 또는 -3 이하인 값을 이상치로 간주\n",
        "threshold = 3\n",
        "sc_weir_after_cleaning = sc_weir_df[(abs(z_chl) < threshold) & (abs(z_dis) < threshold)]\n",
        "#plt.scatter(sc_weir_df_cleaned['Discharge'], sc_weir_df_cleaned['Chl-a'])\n",
        "#plt.xlabel('Discharge')\n",
        "#plt.ylabel('Chl-a')\n",
        "#plt.show()\n",
        "print(\"\\n### 이상치 제거 이후 ###\")\n",
        "print(\"\\n[이상치 제거 이후] 평균값 (Chl-a):\", sc_weir_after_cleaning['Chl-a'].mean())\n",
        "print(\"[이상치 제거 이후] 중앙값 (Chl-a):\", sc_weir_after_cleaning['Chl-a'].median())\n",
        "print(\"[이상치 제거 이후] 최빈값 (Chl-a):\", sc_weir_after_cleaning['Chl-a'].mode()[0])\n",
        "print(\"[이상치 제거 이후] 범위 (Chl-a):\", sc_weir_after_cleaning['Chl-a'].max() - sc_weir_after_cleaning['Chl-a'].min())\n",
        "print(\"[이상치 제거 이후] 사분범위 (Chl-a):\", sc_weir_after_cleaning['Chl-a'].quantile(0.75) - sc_weir_after_cleaning['Chl-a'].quantile(0.25))\n",
        "print(\"[이상치 제거 이후] 분산 (Chl-a):\", sc_weir_after_cleaning['Chl-a'].var())\n",
        "print(\"[이상치 제거 이후] 표준편차 (Chl-a):\", sc_weir_after_cleaning['Chl-a'].std())\n",
        "print(\"[이상치 제거 이후] 공분산 (Chl-a, Chl-a):\", sc_weir_after_cleaning[['Chl-a', 'Chl-a']].cov().iloc[0,1])\n",
        "print(\"[이상치 제거 이후] 피어슨 상관계수 (Chl-a, Chl-a):\", sc_weir_after_cleaning[['Chl-a', 'Chl-a']].corr().iloc[0,1])\n"
      ]
    },
    {
      "cell_type": "markdown",
      "id": "3d19d6e7",
      "metadata": {
        "id": "3d19d6e7"
      },
      "source": [
        "**문제 2**"
      ]
    },
    {
      "cell_type": "markdown",
      "id": "f99522b3",
      "metadata": {
        "id": "f99522b3"
      },
      "source": [
        "기본 데이터 저장소에 있는 `california_housing.csv` 파일은 미국 캘리포니아 주의 주택 정보를 담고 있다.\n",
        "위 파일의 내용을 데이터프레임으로 불러와서 `housing_df` 변수에 할당한다."
      ]
    },
    {
      "cell_type": "code",
      "execution_count": null,
      "id": "66c483c2",
      "metadata": {
        "id": "66c483c2",
        "outputId": "f567a416-de7c-403b-a724-f919a65910d3"
      },
      "outputs": [
        {
          "data": {
            "text/html": [
              "<div>\n",
              "<style scoped>\n",
              "    .dataframe tbody tr th:only-of-type {\n",
              "        vertical-align: middle;\n",
              "    }\n",
              "\n",
              "    .dataframe tbody tr th {\n",
              "        vertical-align: top;\n",
              "    }\n",
              "\n",
              "    .dataframe thead th {\n",
              "        text-align: right;\n",
              "    }\n",
              "</style>\n",
              "<table border=\"1\" class=\"dataframe\">\n",
              "  <thead>\n",
              "    <tr style=\"text-align: right;\">\n",
              "      <th></th>\n",
              "      <th>longitude</th>\n",
              "      <th>latitude</th>\n",
              "      <th>housing_median_age</th>\n",
              "      <th>total_rooms</th>\n",
              "      <th>total_bedrooms</th>\n",
              "      <th>population</th>\n",
              "      <th>households</th>\n",
              "      <th>median_income</th>\n",
              "      <th>median_house_value</th>\n",
              "      <th>ocean_proximity</th>\n",
              "    </tr>\n",
              "  </thead>\n",
              "  <tbody>\n",
              "    <tr>\n",
              "      <th>0</th>\n",
              "      <td>-122.23</td>\n",
              "      <td>37.88</td>\n",
              "      <td>41.0</td>\n",
              "      <td>880.0</td>\n",
              "      <td>129.0</td>\n",
              "      <td>322.0</td>\n",
              "      <td>126.0</td>\n",
              "      <td>8.3252</td>\n",
              "      <td>452600.0</td>\n",
              "      <td>NEAR BAY</td>\n",
              "    </tr>\n",
              "    <tr>\n",
              "      <th>1</th>\n",
              "      <td>-122.22</td>\n",
              "      <td>37.86</td>\n",
              "      <td>21.0</td>\n",
              "      <td>7099.0</td>\n",
              "      <td>1106.0</td>\n",
              "      <td>2401.0</td>\n",
              "      <td>1138.0</td>\n",
              "      <td>8.3014</td>\n",
              "      <td>358500.0</td>\n",
              "      <td>NEAR BAY</td>\n",
              "    </tr>\n",
              "    <tr>\n",
              "      <th>2</th>\n",
              "      <td>-122.24</td>\n",
              "      <td>37.85</td>\n",
              "      <td>52.0</td>\n",
              "      <td>1467.0</td>\n",
              "      <td>190.0</td>\n",
              "      <td>496.0</td>\n",
              "      <td>177.0</td>\n",
              "      <td>7.2574</td>\n",
              "      <td>352100.0</td>\n",
              "      <td>NEAR BAY</td>\n",
              "    </tr>\n",
              "    <tr>\n",
              "      <th>3</th>\n",
              "      <td>-122.25</td>\n",
              "      <td>37.85</td>\n",
              "      <td>52.0</td>\n",
              "      <td>1274.0</td>\n",
              "      <td>235.0</td>\n",
              "      <td>558.0</td>\n",
              "      <td>219.0</td>\n",
              "      <td>5.6431</td>\n",
              "      <td>341300.0</td>\n",
              "      <td>NEAR BAY</td>\n",
              "    </tr>\n",
              "    <tr>\n",
              "      <th>4</th>\n",
              "      <td>-122.25</td>\n",
              "      <td>37.85</td>\n",
              "      <td>52.0</td>\n",
              "      <td>1627.0</td>\n",
              "      <td>280.0</td>\n",
              "      <td>565.0</td>\n",
              "      <td>259.0</td>\n",
              "      <td>3.8462</td>\n",
              "      <td>342200.0</td>\n",
              "      <td>NEAR BAY</td>\n",
              "    </tr>\n",
              "    <tr>\n",
              "      <th>...</th>\n",
              "      <td>...</td>\n",
              "      <td>...</td>\n",
              "      <td>...</td>\n",
              "      <td>...</td>\n",
              "      <td>...</td>\n",
              "      <td>...</td>\n",
              "      <td>...</td>\n",
              "      <td>...</td>\n",
              "      <td>...</td>\n",
              "      <td>...</td>\n",
              "    </tr>\n",
              "    <tr>\n",
              "      <th>20635</th>\n",
              "      <td>-121.09</td>\n",
              "      <td>39.48</td>\n",
              "      <td>25.0</td>\n",
              "      <td>1665.0</td>\n",
              "      <td>374.0</td>\n",
              "      <td>845.0</td>\n",
              "      <td>330.0</td>\n",
              "      <td>1.5603</td>\n",
              "      <td>78100.0</td>\n",
              "      <td>INLAND</td>\n",
              "    </tr>\n",
              "    <tr>\n",
              "      <th>20636</th>\n",
              "      <td>-121.21</td>\n",
              "      <td>39.49</td>\n",
              "      <td>18.0</td>\n",
              "      <td>697.0</td>\n",
              "      <td>150.0</td>\n",
              "      <td>356.0</td>\n",
              "      <td>114.0</td>\n",
              "      <td>2.5568</td>\n",
              "      <td>77100.0</td>\n",
              "      <td>INLAND</td>\n",
              "    </tr>\n",
              "    <tr>\n",
              "      <th>20637</th>\n",
              "      <td>-121.22</td>\n",
              "      <td>39.43</td>\n",
              "      <td>17.0</td>\n",
              "      <td>2254.0</td>\n",
              "      <td>485.0</td>\n",
              "      <td>1007.0</td>\n",
              "      <td>433.0</td>\n",
              "      <td>1.7000</td>\n",
              "      <td>92300.0</td>\n",
              "      <td>INLAND</td>\n",
              "    </tr>\n",
              "    <tr>\n",
              "      <th>20638</th>\n",
              "      <td>-121.32</td>\n",
              "      <td>39.43</td>\n",
              "      <td>18.0</td>\n",
              "      <td>1860.0</td>\n",
              "      <td>409.0</td>\n",
              "      <td>741.0</td>\n",
              "      <td>349.0</td>\n",
              "      <td>1.8672</td>\n",
              "      <td>84700.0</td>\n",
              "      <td>INLAND</td>\n",
              "    </tr>\n",
              "    <tr>\n",
              "      <th>20639</th>\n",
              "      <td>-121.24</td>\n",
              "      <td>39.37</td>\n",
              "      <td>16.0</td>\n",
              "      <td>2785.0</td>\n",
              "      <td>616.0</td>\n",
              "      <td>1387.0</td>\n",
              "      <td>530.0</td>\n",
              "      <td>2.3886</td>\n",
              "      <td>89400.0</td>\n",
              "      <td>INLAND</td>\n",
              "    </tr>\n",
              "  </tbody>\n",
              "</table>\n",
              "<p>20640 rows × 10 columns</p>\n",
              "</div>"
            ],
            "text/plain": [
              "       longitude  latitude  housing_median_age  total_rooms  total_bedrooms  \\\n",
              "0        -122.23     37.88                41.0        880.0           129.0   \n",
              "1        -122.22     37.86                21.0       7099.0          1106.0   \n",
              "2        -122.24     37.85                52.0       1467.0           190.0   \n",
              "3        -122.25     37.85                52.0       1274.0           235.0   \n",
              "4        -122.25     37.85                52.0       1627.0           280.0   \n",
              "...          ...       ...                 ...          ...             ...   \n",
              "20635    -121.09     39.48                25.0       1665.0           374.0   \n",
              "20636    -121.21     39.49                18.0        697.0           150.0   \n",
              "20637    -121.22     39.43                17.0       2254.0           485.0   \n",
              "20638    -121.32     39.43                18.0       1860.0           409.0   \n",
              "20639    -121.24     39.37                16.0       2785.0           616.0   \n",
              "\n",
              "       population  households  median_income  median_house_value  \\\n",
              "0           322.0       126.0         8.3252            452600.0   \n",
              "1          2401.0      1138.0         8.3014            358500.0   \n",
              "2           496.0       177.0         7.2574            352100.0   \n",
              "3           558.0       219.0         5.6431            341300.0   \n",
              "4           565.0       259.0         3.8462            342200.0   \n",
              "...           ...         ...            ...                 ...   \n",
              "20635       845.0       330.0         1.5603             78100.0   \n",
              "20636       356.0       114.0         2.5568             77100.0   \n",
              "20637      1007.0       433.0         1.7000             92300.0   \n",
              "20638       741.0       349.0         1.8672             84700.0   \n",
              "20639      1387.0       530.0         2.3886             89400.0   \n",
              "\n",
              "      ocean_proximity  \n",
              "0            NEAR BAY  \n",
              "1            NEAR BAY  \n",
              "2            NEAR BAY  \n",
              "3            NEAR BAY  \n",
              "4            NEAR BAY  \n",
              "...               ...  \n",
              "20635          INLAND  \n",
              "20636          INLAND  \n",
              "20637          INLAND  \n",
              "20638          INLAND  \n",
              "20639          INLAND  \n",
              "\n",
              "[20640 rows x 10 columns]"
            ]
          },
          "execution_count": 17,
          "metadata": {},
          "output_type": "execute_result"
        }
      ],
      "source": [
        "housing_df = pd.read_csv(data_url+\"california_housing.csv\")\n",
        "housing_df"
      ]
    },
    {
      "cell_type": "markdown",
      "id": "00c83cd9",
      "metadata": {
        "id": "00c83cd9"
      },
      "source": [
        "(1) 주택중위가격(median_house_value) 특성과 다른 수치형 특성 사이의 선형 상관계수를 나타내는 상관계수를 확인하라."
      ]
    },
    {
      "cell_type": "code",
      "execution_count": 21,
      "id": "006ac1f5",
      "metadata": {
        "colab": {
          "base_uri": "https://localhost:8080/",
          "height": 112
        },
        "id": "006ac1f5",
        "outputId": "5d3a571d-f2fe-4eb3-e3f2-67a234620734"
      },
      "outputs": [
        {
          "output_type": "execute_result",
          "data": {
            "text/plain": [
              "                    median_income  median_house_value\n",
              "median_income            1.000000            0.688075\n",
              "median_house_value       0.688075            1.000000"
            ],
            "text/html": [
              "\n",
              "  <div id=\"df-07d8c146-c525-4f9b-ad46-07d7148dc743\" class=\"colab-df-container\">\n",
              "    <div>\n",
              "<style scoped>\n",
              "    .dataframe tbody tr th:only-of-type {\n",
              "        vertical-align: middle;\n",
              "    }\n",
              "\n",
              "    .dataframe tbody tr th {\n",
              "        vertical-align: top;\n",
              "    }\n",
              "\n",
              "    .dataframe thead th {\n",
              "        text-align: right;\n",
              "    }\n",
              "</style>\n",
              "<table border=\"1\" class=\"dataframe\">\n",
              "  <thead>\n",
              "    <tr style=\"text-align: right;\">\n",
              "      <th></th>\n",
              "      <th>median_income</th>\n",
              "      <th>median_house_value</th>\n",
              "    </tr>\n",
              "  </thead>\n",
              "  <tbody>\n",
              "    <tr>\n",
              "      <th>median_income</th>\n",
              "      <td>1.000000</td>\n",
              "      <td>0.688075</td>\n",
              "    </tr>\n",
              "    <tr>\n",
              "      <th>median_house_value</th>\n",
              "      <td>0.688075</td>\n",
              "      <td>1.000000</td>\n",
              "    </tr>\n",
              "  </tbody>\n",
              "</table>\n",
              "</div>\n",
              "    <div class=\"colab-df-buttons\">\n",
              "\n",
              "  <div class=\"colab-df-container\">\n",
              "    <button class=\"colab-df-convert\" onclick=\"convertToInteractive('df-07d8c146-c525-4f9b-ad46-07d7148dc743')\"\n",
              "            title=\"Convert this dataframe to an interactive table.\"\n",
              "            style=\"display:none;\">\n",
              "\n",
              "  <svg xmlns=\"http://www.w3.org/2000/svg\" height=\"24px\" viewBox=\"0 -960 960 960\">\n",
              "    <path d=\"M120-120v-720h720v720H120Zm60-500h600v-160H180v160Zm220 220h160v-160H400v160Zm0 220h160v-160H400v160ZM180-400h160v-160H180v160Zm440 0h160v-160H620v160ZM180-180h160v-160H180v160Zm440 0h160v-160H620v160Z\"/>\n",
              "  </svg>\n",
              "    </button>\n",
              "\n",
              "  <style>\n",
              "    .colab-df-container {\n",
              "      display:flex;\n",
              "      gap: 12px;\n",
              "    }\n",
              "\n",
              "    .colab-df-convert {\n",
              "      background-color: #E8F0FE;\n",
              "      border: none;\n",
              "      border-radius: 50%;\n",
              "      cursor: pointer;\n",
              "      display: none;\n",
              "      fill: #1967D2;\n",
              "      height: 32px;\n",
              "      padding: 0 0 0 0;\n",
              "      width: 32px;\n",
              "    }\n",
              "\n",
              "    .colab-df-convert:hover {\n",
              "      background-color: #E2EBFA;\n",
              "      box-shadow: 0px 1px 2px rgba(60, 64, 67, 0.3), 0px 1px 3px 1px rgba(60, 64, 67, 0.15);\n",
              "      fill: #174EA6;\n",
              "    }\n",
              "\n",
              "    .colab-df-buttons div {\n",
              "      margin-bottom: 4px;\n",
              "    }\n",
              "\n",
              "    [theme=dark] .colab-df-convert {\n",
              "      background-color: #3B4455;\n",
              "      fill: #D2E3FC;\n",
              "    }\n",
              "\n",
              "    [theme=dark] .colab-df-convert:hover {\n",
              "      background-color: #434B5C;\n",
              "      box-shadow: 0px 1px 3px 1px rgba(0, 0, 0, 0.15);\n",
              "      filter: drop-shadow(0px 1px 2px rgba(0, 0, 0, 0.3));\n",
              "      fill: #FFFFFF;\n",
              "    }\n",
              "  </style>\n",
              "\n",
              "    <script>\n",
              "      const buttonEl =\n",
              "        document.querySelector('#df-07d8c146-c525-4f9b-ad46-07d7148dc743 button.colab-df-convert');\n",
              "      buttonEl.style.display =\n",
              "        google.colab.kernel.accessAllowed ? 'block' : 'none';\n",
              "\n",
              "      async function convertToInteractive(key) {\n",
              "        const element = document.querySelector('#df-07d8c146-c525-4f9b-ad46-07d7148dc743');\n",
              "        const dataTable =\n",
              "          await google.colab.kernel.invokeFunction('convertToInteractive',\n",
              "                                                    [key], {});\n",
              "        if (!dataTable) return;\n",
              "\n",
              "        const docLinkHtml = 'Like what you see? Visit the ' +\n",
              "          '<a target=\"_blank\" href=https://colab.research.google.com/notebooks/data_table.ipynb>data table notebook</a>'\n",
              "          + ' to learn more about interactive tables.';\n",
              "        element.innerHTML = '';\n",
              "        dataTable['output_type'] = 'display_data';\n",
              "        await google.colab.output.renderOutput(dataTable, element);\n",
              "        const docLink = document.createElement('div');\n",
              "        docLink.innerHTML = docLinkHtml;\n",
              "        element.appendChild(docLink);\n",
              "      }\n",
              "    </script>\n",
              "  </div>\n",
              "\n",
              "\n",
              "<div id=\"df-92a09980-3a28-42b4-ba85-4d4393898f21\">\n",
              "  <button class=\"colab-df-quickchart\" onclick=\"quickchart('df-92a09980-3a28-42b4-ba85-4d4393898f21')\"\n",
              "            title=\"Suggest charts\"\n",
              "            style=\"display:none;\">\n",
              "\n",
              "<svg xmlns=\"http://www.w3.org/2000/svg\" height=\"24px\"viewBox=\"0 0 24 24\"\n",
              "     width=\"24px\">\n",
              "    <g>\n",
              "        <path d=\"M19 3H5c-1.1 0-2 .9-2 2v14c0 1.1.9 2 2 2h14c1.1 0 2-.9 2-2V5c0-1.1-.9-2-2-2zM9 17H7v-7h2v7zm4 0h-2V7h2v10zm4 0h-2v-4h2v4z\"/>\n",
              "    </g>\n",
              "</svg>\n",
              "  </button>\n",
              "\n",
              "<style>\n",
              "  .colab-df-quickchart {\n",
              "      --bg-color: #E8F0FE;\n",
              "      --fill-color: #1967D2;\n",
              "      --hover-bg-color: #E2EBFA;\n",
              "      --hover-fill-color: #174EA6;\n",
              "      --disabled-fill-color: #AAA;\n",
              "      --disabled-bg-color: #DDD;\n",
              "  }\n",
              "\n",
              "  [theme=dark] .colab-df-quickchart {\n",
              "      --bg-color: #3B4455;\n",
              "      --fill-color: #D2E3FC;\n",
              "      --hover-bg-color: #434B5C;\n",
              "      --hover-fill-color: #FFFFFF;\n",
              "      --disabled-bg-color: #3B4455;\n",
              "      --disabled-fill-color: #666;\n",
              "  }\n",
              "\n",
              "  .colab-df-quickchart {\n",
              "    background-color: var(--bg-color);\n",
              "    border: none;\n",
              "    border-radius: 50%;\n",
              "    cursor: pointer;\n",
              "    display: none;\n",
              "    fill: var(--fill-color);\n",
              "    height: 32px;\n",
              "    padding: 0;\n",
              "    width: 32px;\n",
              "  }\n",
              "\n",
              "  .colab-df-quickchart:hover {\n",
              "    background-color: var(--hover-bg-color);\n",
              "    box-shadow: 0 1px 2px rgba(60, 64, 67, 0.3), 0 1px 3px 1px rgba(60, 64, 67, 0.15);\n",
              "    fill: var(--button-hover-fill-color);\n",
              "  }\n",
              "\n",
              "  .colab-df-quickchart-complete:disabled,\n",
              "  .colab-df-quickchart-complete:disabled:hover {\n",
              "    background-color: var(--disabled-bg-color);\n",
              "    fill: var(--disabled-fill-color);\n",
              "    box-shadow: none;\n",
              "  }\n",
              "\n",
              "  .colab-df-spinner {\n",
              "    border: 2px solid var(--fill-color);\n",
              "    border-color: transparent;\n",
              "    border-bottom-color: var(--fill-color);\n",
              "    animation:\n",
              "      spin 1s steps(1) infinite;\n",
              "  }\n",
              "\n",
              "  @keyframes spin {\n",
              "    0% {\n",
              "      border-color: transparent;\n",
              "      border-bottom-color: var(--fill-color);\n",
              "      border-left-color: var(--fill-color);\n",
              "    }\n",
              "    20% {\n",
              "      border-color: transparent;\n",
              "      border-left-color: var(--fill-color);\n",
              "      border-top-color: var(--fill-color);\n",
              "    }\n",
              "    30% {\n",
              "      border-color: transparent;\n",
              "      border-left-color: var(--fill-color);\n",
              "      border-top-color: var(--fill-color);\n",
              "      border-right-color: var(--fill-color);\n",
              "    }\n",
              "    40% {\n",
              "      border-color: transparent;\n",
              "      border-right-color: var(--fill-color);\n",
              "      border-top-color: var(--fill-color);\n",
              "    }\n",
              "    60% {\n",
              "      border-color: transparent;\n",
              "      border-right-color: var(--fill-color);\n",
              "    }\n",
              "    80% {\n",
              "      border-color: transparent;\n",
              "      border-right-color: var(--fill-color);\n",
              "      border-bottom-color: var(--fill-color);\n",
              "    }\n",
              "    90% {\n",
              "      border-color: transparent;\n",
              "      border-bottom-color: var(--fill-color);\n",
              "    }\n",
              "  }\n",
              "</style>\n",
              "\n",
              "  <script>\n",
              "    async function quickchart(key) {\n",
              "      const quickchartButtonEl =\n",
              "        document.querySelector('#' + key + ' button');\n",
              "      quickchartButtonEl.disabled = true;  // To prevent multiple clicks.\n",
              "      quickchartButtonEl.classList.add('colab-df-spinner');\n",
              "      try {\n",
              "        const charts = await google.colab.kernel.invokeFunction(\n",
              "            'suggestCharts', [key], {});\n",
              "      } catch (error) {\n",
              "        console.error('Error during call to suggestCharts:', error);\n",
              "      }\n",
              "      quickchartButtonEl.classList.remove('colab-df-spinner');\n",
              "      quickchartButtonEl.classList.add('colab-df-quickchart-complete');\n",
              "    }\n",
              "    (() => {\n",
              "      let quickchartButtonEl =\n",
              "        document.querySelector('#df-92a09980-3a28-42b4-ba85-4d4393898f21 button');\n",
              "      quickchartButtonEl.style.display =\n",
              "        google.colab.kernel.accessAllowed ? 'block' : 'none';\n",
              "    })();\n",
              "  </script>\n",
              "</div>\n",
              "\n",
              "    </div>\n",
              "  </div>\n"
            ],
            "application/vnd.google.colaboratory.intrinsic+json": {
              "type": "dataframe",
              "summary": "{\n  \"name\": \"#\",\n  \"rows\": 2,\n  \"fields\": [\n    {\n      \"column\": \"median_income\",\n      \"properties\": {\n        \"dtype\": \"number\",\n        \"std\": 0.22056413567270747,\n        \"min\": 0.6880752079585577,\n        \"max\": 1.0,\n        \"num_unique_values\": 2,\n        \"samples\": [\n          0.6880752079585577,\n          1.0\n        ],\n        \"semantic_type\": \"\",\n        \"description\": \"\"\n      }\n    },\n    {\n      \"column\": \"median_house_value\",\n      \"properties\": {\n        \"dtype\": \"number\",\n        \"std\": 0.22056413567270747,\n        \"min\": 0.6880752079585577,\n        \"max\": 1.0,\n        \"num_unique_values\": 2,\n        \"samples\": [\n          1.0,\n          0.6880752079585577\n        ],\n        \"semantic_type\": \"\",\n        \"description\": \"\"\n      }\n    }\n  ]\n}"
            }
          },
          "metadata": {},
          "execution_count": 21
        }
      ],
      "source": [
        "import pandas as pd\n",
        "import numpy as np\n",
        "data_url = 'https://raw.githubusercontent.com/codingalzi/DataSci/refs/heads/master/data/'\n",
        "housing_df = pd.read_csv(data_url+\"california_housing.csv\")\n",
        "housing_df\n",
        "median_np = np.array(housing_df['median_house_value']) # 넘페이 배열\n",
        "long_np = np.array(housing_df['median_income'])\n",
        "\n",
        "summary_df = pd.DataFrame({'median_income':long_np, 'median_house_value':median_np})\n",
        "summary_df.corr()\n",
        "# longitude = -0.045967\n",
        "# latitude = -0.014416\n",
        "# total_rooms = 0.134153\n",
        "# housing_median_age = 0.105623\n",
        "# total_bedrooms = 0.049686\n",
        "# poulation = -0.02465\n",
        "# households = 0.065843\n",
        "# median_income = 0.688075  # 제일 상관관게가 높음\n"
      ]
    },
    {
      "cell_type": "markdown",
      "id": "95e05760",
      "metadata": {
        "id": "95e05760"
      },
      "source": [
        "(2) 확인된 상관계수를 바탕으로 주택중위가격과 가장 상관관계가 높은 특성을 확인하고 그 이유를 추정하라.\n",
        "\n",
        "힌트: `sort_values()` 메서드 활용"
      ]
    },
    {
      "cell_type": "code",
      "execution_count": 27,
      "id": "492f5773",
      "metadata": {
        "colab": {
          "base_uri": "https://localhost:8080/",
          "height": 450
        },
        "id": "492f5773",
        "outputId": "60474d00-be3e-49ba-b1a6-808763778ff0"
      },
      "outputs": [
        {
          "output_type": "display_data",
          "data": {
            "text/plain": [
              "<Figure size 640x480 with 1 Axes>"
            ],
            "image/png": "[encoded data removed]"
          },
          "metadata": {}
        }
      ],
      "source": [
        "import pandas as pd\n",
        "import numpy as np\n",
        "import matplotlib.pyplot as plt\n",
        "data_url = 'https://raw.githubusercontent.com/codingalzi/DataSci/refs/heads/master/data/'\n",
        "housing_df = pd.read_csv(data_url+\"california_housing.csv\")\n",
        "housing_df\n",
        "median_np = np.array(housing_df['median_house_value']) # 넘페이 배열\n",
        "long_np = np.array(housing_df['median_income'])\n",
        "\n",
        "summary_df = pd.DataFrame({'median_income':long_np, 'median_house_value':median_np})\n",
        "summary_df.corr()\n",
        "# median_income = 0.688075  # 제일 상관관게가 높음\n",
        "\n",
        "sorted_df = summary_df.sort_values(by='median_income')\n",
        "sorted_df\n",
        "\n",
        "plt.scatter(long_np, median_np)\n",
        "plt.xlabel('median_income')\n",
        "plt.ylabel('median_house_values')\n",
        "plt.show()\n",
        "# 산점도에서도 볼수있듯, 중위소득이 높을수록 주택중위가격이 높은 집에 거주한다는 양의 상관계수를 볼 수 있다."
      ]
    }
  ],
  "metadata": {
    "kernelspec": {
      "display_name": "Python 3 (ipykernel)",
      "language": "python",
      "name": "python3"
    },
    "language_info": {
      "codemirror_mode": {
        "name": "ipython",
        "version": 3
      },
      "file_extension": ".py",
      "mimetype": "text/x-python",
      "name": "python",
      "nbconvert_exporter": "python",
      "pygments_lexer": "ipython3",
      "version": "3.12.7"
    },
    "vscode": {
      "interpreter": {
        "hash": "ad0f3c8a064f687cbf898a0868fd45ba1c7e928ac8a0404f7c241d812ddc1e76"
      }
    },
    "colab": {
      "provenance": []
    }
  },
  "nbformat": 4,
  "nbformat_minor": 5
}